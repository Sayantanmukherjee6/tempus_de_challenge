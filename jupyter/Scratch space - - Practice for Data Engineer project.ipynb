{
 "cells": [
  {
   "cell_type": "code",
   "execution_count": 85,
   "metadata": {},
   "outputs": [],
   "source": [
    "import json\n",
    "import pandas as pd\n",
    "import numpy as np"
   ]
  },
  {
   "cell_type": "markdown",
   "metadata": {},
   "source": [
    "#### create some god-damn data"
   ]
  },
  {
   "cell_type": "code",
   "execution_count": 2,
   "metadata": {},
   "outputs": [],
   "source": [
    "data = {\n",
    "  \"items\": [\n",
    "    {\n",
    "      \"user\": {\n",
    "        \"reputation\": 42660,\n",
    "        \"user_id\": 4909087,\n",
    "        \"user_type\": \"registered\",\n",
    "        \"accept_rate\": 96,\n",
    "        \"profile_image\": \"https://i.stack.imgur.com/q6xFr.jpg?s=128&g=1\",\n",
    "        \"display_name\": \"cᴏʟᴅsᴘᴇᴇᴅ\",\n",
    "        \"link\": \"https://stackoverflow.com/users/4909087/c%e1%b4%8f%ca%9f%e1%b4%85s%e1%b4%98%e1%b4%87%e1%b4%87%e1%b4%85\"\n",
    "      },\n",
    "      \"post_count\": 347,\n",
    "      \"score\": 623\n",
    "    },\n",
    "    {\n",
    "      \"user\": {\n",
    "        \"reputation\": 173184,\n",
    "        \"user_id\": 2901002,\n",
    "        \"user_type\": \"registered\",\n",
    "        \"accept_rate\": 96,\n",
    "        \"profile_image\": \"https://i.stack.imgur.com/hMDvl.jpg?s=128&g=1\",\n",
    "        \"display_name\": \"jezrael\",\n",
    "        \"link\": \"https://stackoverflow.com/users/2901002/jezrael\"\n",
    "      },\n",
    "      \"post_count\": 396,\n",
    "      \"score\": 613\n",
    "    },\n",
    "    {\n",
    "      \"user\": {\n",
    "        \"reputation\": 95634,\n",
    "        \"user_id\": 2336654,\n",
    "        \"user_type\": \"registered\",\n",
    "        \"accept_rate\": 96,\n",
    "        \"profile_image\": \"https://i.stack.imgur.com/mQIca.jpg?s=128&g=1\",\n",
    "        \"display_name\": \"piRSquared\",\n",
    "        \"link\": \"https://stackoverflow.com/users/2336654/pirsquared\"\n",
    "      },\n",
    "      \"post_count\": 163,\n",
    "      \"score\": 360\n",
    "    },\n",
    "    {\n",
    "      \"user\": {\n",
    "        \"reputation\": 13646,\n",
    "        \"user_id\": 7964527,\n",
    "        \"user_type\": \"registered\",\n",
    "        \"accept_rate\": 100,\n",
    "        \"profile_image\": \"https://i.stack.imgur.com/mD4ZC.jpg?s=128&g=1\",\n",
    "        \"display_name\": \"Wen\",\n",
    "        \"link\": \"https://stackoverflow.com/users/7964527/wen\"\n",
    "      },\n",
    "      \"post_count\": 213,\n",
    "      \"score\": 325\n",
    "    },\n",
    " ],\n",
    "  \"has_more\": 'false',\n",
    "  \"quota_max\": 10000,\n",
    "  \"quota_remaining\": 9985\n",
    "}"
   ]
  },
  {
   "cell_type": "markdown",
   "metadata": {},
   "source": [
    "#### write it to some damn file"
   ]
  },
  {
   "cell_type": "code",
   "execution_count": 15,
   "metadata": {},
   "outputs": [],
   "source": [
    "def ultimate_reader(input, filename=None):\n",
    "    if not filename:\n",
    "        filename = \"creepier.json\"\n",
    "    \n",
    "    try:\n",
    "        with open(filename, \"w+\") as output:\n",
    "            json.dump(input, output, indent=4)\n",
    "        print(\"successful write\")\n",
    "        print(\"filename: {}\".format(filename))\n",
    "    except IOError:\n",
    "        print(\"io error dumping\")\n",
    "    except ValueError:\n",
    "        print(\"bad data in json\")\n"
   ]
  },
  {
   "cell_type": "markdown",
   "metadata": {},
   "source": [
    "#### read the damn data"
   ]
  },
  {
   "cell_type": "code",
   "execution_count": 5,
   "metadata": {},
   "outputs": [],
   "source": [
    "# Reads and converts json to dict.\n",
    "def js_r(input=None):\n",
    "   if not input:\n",
    "       input = \"duster.json\"\n",
    "   with open(input, encoding='utf-8') as f_in:\n",
    "       return(json.load(f_in))"
   ]
  },
  {
   "cell_type": "markdown",
   "metadata": {},
   "source": [
    "#### process all the damn data the traditional way with code"
   ]
  },
  {
   "cell_type": "code",
   "execution_count": 6,
   "metadata": {},
   "outputs": [
    {
     "name": "stdout",
     "output_type": "stream",
     "text": [
      "dict_keys(['items', 'has_more', 'quota_max', 'quota_remaining'])\n"
     ]
    }
   ],
   "source": [
    "my_dic_data = js_r()\n",
    "keys= my_dic_data.keys()\n",
    "print(keys)"
   ]
  },
  {
   "cell_type": "markdown",
   "metadata": {},
   "source": [
    "#### process all the damn data using pandas"
   ]
  },
  {
   "cell_type": "code",
   "execution_count": 7,
   "metadata": {},
   "outputs": [],
   "source": [
    "creepy_data = pd.read_json(\"duster.json\")"
   ]
  },
  {
   "cell_type": "code",
   "execution_count": 9,
   "metadata": {},
   "outputs": [
    {
     "data": {
      "text/plain": [
       "0    {'user': {'reputation': 42660, 'user_id': 4909...\n",
       "1    {'user': {'reputation': 173184, 'user_id': 290...\n",
       "2    {'user': {'reputation': 95634, 'user_id': 2336...\n",
       "3    {'user': {'reputation': 13646, 'user_id': 7964...\n",
       "Name: items, dtype: object"
      ]
     },
     "execution_count": 9,
     "metadata": {},
     "output_type": "execute_result"
    }
   ],
   "source": [
    "creepy_data['items'].head()"
   ]
  },
  {
   "cell_type": "markdown",
   "metadata": {},
   "source": [
    "### Experiment with News API data"
   ]
  },
  {
   "cell_type": "code",
   "execution_count": 10,
   "metadata": {},
   "outputs": [],
   "source": [
    "data_news_cancer = {\"status\":\"ok\",\"totalResults\":7,\"articles\":[{\"source\":{\"id\":\"cbc-news\",\"name\":\"CBC News\"},\"author\":\"CBC News\",\"title\":\"How Gord Downie fought to the end to reveal 'The Secret Path' to Canadians | CBC News\",\"description\":\"In his last year, while living with his own tragic story of terminal cancer, singer Gord Downie was consumed by another. He was transfixed by Chanie Wenjack, a 12-year-old Anishinaabe residential school student who died of hunger and exhaustion while trying t…\",\"url\":\"http://www.cbc.ca/news/entertainment/national-gord-downie-secret-path-chanie-wenjack-1.4846918\",\"urlToImage\":\"https://i.cbc.ca/1.4360028.1508334030!/fileImage/httpImage/image.jpg_gen/derivatives/16x9_620/gord-downie.jpg\",\"publishedAt\":\"2018-10-12T12:53:07.8701968Z\",\"content\":\"In his last year, while living with his own tragic story, Gord Downie was consumed by another. Chanie Wenjack, a 12-year-old Anishinaabe boy, ran away from a residential school in northern Ontario 52 years ago. He died of hunger and exhaustion trying to walk … [+5598 chars]\"},{\"source\":{\"id\":\"google-news-in\",\"name\":\"Google News (India)\"},\"author\":\"Pratiksha Ramkumar\",\"title\":\"Coimbatore hospital removes ‘world’s heaviest ovarian cancer tumour’ - Times of India\",\"description\":\"Hospital authorities on Thursday evening said the tumour weighed 33.5kg, which is equivalent to 11 full term babies born at an average weight of 3kg e\",\"url\":\"https://timesofindia.indiatimes.com/city/coimbatore/coimbatore-hospital-removes-worlds-heaviest-ovarian-cancer-tumour/articleshow/66181579.cms\",\"urlToImage\":\"https://static.toiimg.com/thumb/msid-66181558,width-1070,height-580,imgsize-1331549,resizemode-6,overlay-toi_sw,pt-32,y_pad-40/photo.jpg\",\"publishedAt\":\"2018-10-12T11:08:14+00:00\",\"content\":\"COIMBATORE: A hospital in Coimbatore has removed what could be the worlds heaviest ovarian cancer tumour from a 46-year-old woman from Ooty. Hospital authorities on Thursday evening said the tumour weighed 33.5kg, which is equivalent to 11 full term babies bo… [+2172 chars]\"},{\"source\":{\"id\":\"independent\",\"name\":\"Independent\"},\"author\":\"Roisin O'Connor\",\"title\":\"Elvis Costello: 'I wish I could write like Lionel Richie – but heartfelt love songs just aren't what I do'\",\"description\":\"The English singer-songwriter speaks about his new record 'Look Now', a ‘dramatised’ cancer operation, and why he’s unlikely to retire any of his more controversial tracks in the Time's Up era\",\"url\":\"http://www.independent.co.uk/arts-entertainment/music/features/elvis-costello-interview-look-now-album-cancer-tour-dates-metoo-ed-sheeran-a8579441.html\",\"urlToImage\":\"https://static.independent.co.uk/s3fs-public/thumbnails/image/2018/10/09/16/lead-credit-james-omara-0.jpg\",\"publishedAt\":\"2018-10-12T06:34:00Z\",\"content\":\"Elvis Costello turned on the television one night enjoying a quiet evening after dinner with his eldest son only to find a singer on a new reality show doing a terrible impression of him. He thought he was hallucinating. I couldnt believe it! he says, settled… [+11058 chars]\"},{\"source\":{\"id\":\"wired\",\"name\":\"Wired\"},\"author\":\"Klint Finley\",\"title\":\"Microsoft Calls a Truce in the Linux Patent Wars\",\"description\":\"The software giant, whose former CEO once called Linux a \\\\\\\"cancer,\\\\\\\" will let others use 60,000 patents for Linux-related open source projects.\",\"url\":\"https://www.wired.com/story/microsoft-calls-truce-in-linux-patent-wars/\",\"urlToImage\":\"https://media.wired.com/photos/5bbe9c0f2b915f2dff96d6f4/191:100/pass/Satya-Microsoft-MichelleG.jpg\",\"publishedAt\":\"2018-10-11T23:33:03Z\",\"content\":\"Microsoft is calling for a truce in the patent war. This week the company said it will allow more than 2,600 other companies, including traditional rivals like Google and IBM, to use the technology behind 60,000 Microsoft patents for their own Linux related o… [+4435 chars]\"},{\"source\":{\"id\":\"fortune\",\"name\":\"Fortune\"},\"author\":\"Sy Mukherjee\",\"title\":\"Why Cancer Biotech Allogene Just Scored an Eye Popping $324 Million IPO\",\"description\":\"Cancer biotech Allogene raised a staggering $324 million in its IPO, valuing the company at more than $2 billion. Here's what the firm does.\",\"url\":\"http://fortune.com/2018/10/11/biotech-allogene-ipo/\",\"urlToImage\":\"https://fortunedotcom.files.wordpress.com/2018/10/allogene-ipo-biotech-e1539288031756.jpg\",\"publishedAt\":\"2018-10-11T20:03:36Z\",\"content\":\"Biotech’s red-hot IPO streak shows no signs of slowing down. In fact, on Thursday, cancer drug maker Allogene Therapeutics pulled off the biggest public offering in at least a decade (and one of the most lucrative, ever, period). The firm raised $324 million … [+1807 chars]\"},{\"source\":{\"id\":\"medical-news-today\",\"name\":\"Medical News Today\"},\"author\":\"Ana Sandoiu\",\"title\":\"Breast cancer: Omega-3-rich diet may stop tumors from spreading\",\"description\":\"A diet rich in omega-3 fatty acids may halt the growth of cancer cells by strengthening the immune system and curbing inflammation.\",\"url\":\"http://www.medicalnewstoday.com/articles/323312.php\",\"urlToImage\":\"https://cdn1.medicalnewstoday.com/content/images/hero/323/323312/323312_1100.jpg\",\"publishedAt\":\"2018-10-11T00:00:00Z\",\"content\":\"New research shows that a diet rich in marine omega-3 fatty acids slows the growth and spread of breast cancer cells in female mice. The diet enriched with omega-3 also improved the rodents' survival. A vast body of research hails the benefits of a diet rich … [+3573 chars]\"},{\"source\":{\"id\":\"medical-news-today\",\"name\":\"Medical News Today\"},\"author\":\"Tim Newman\",\"title\":\"New risk factor for mouth cancer uncovered\",\"description\":\"There are several risk factors associated with mouth cancer. A recent study conducted in Taiwan might add another to the list: air pollution.\",\"url\":\"http://www.medicalnewstoday.com/articles/323289.php\",\"urlToImage\":\"https://cdn1.medicalnewstoday.com/content/images/hero/323/323289/323289_1100.jpg\",\"publishedAt\":\"2018-10-11T00:00:00Z\",\"content\":\"In some regions, mouth cancer incidence has risen. A recent study uncovers a new risk factor that might help explain these increases. In certain parts of the world, over the past couple of decades, mouth cancer rates have soared. For instance, in the United K… [+3868 chars]\"}]}"
   ]
  },
  {
   "cell_type": "markdown",
   "metadata": {},
   "source": [
    "#### move the data into json"
   ]
  },
  {
   "cell_type": "code",
   "execution_count": 14,
   "metadata": {},
   "outputs": [
    {
     "name": "stdout",
     "output_type": "stream",
     "text": [
      "successful write\n"
     ]
    }
   ],
   "source": [
    "ultimate_reader(data_news_cancer)"
   ]
  },
  {
   "cell_type": "markdown",
   "metadata": {},
   "source": [
    "#### use pandas to read the damn json"
   ]
  },
  {
   "cell_type": "code",
   "execution_count": 18,
   "metadata": {},
   "outputs": [],
   "source": [
    "dumb_data = pd.read_json(\"creepier.json\")"
   ]
  },
  {
   "cell_type": "code",
   "execution_count": 19,
   "metadata": {},
   "outputs": [
    {
     "data": {
      "text/html": [
       "<div>\n",
       "<style scoped>\n",
       "    .dataframe tbody tr th:only-of-type {\n",
       "        vertical-align: middle;\n",
       "    }\n",
       "\n",
       "    .dataframe tbody tr th {\n",
       "        vertical-align: top;\n",
       "    }\n",
       "\n",
       "    .dataframe thead th {\n",
       "        text-align: right;\n",
       "    }\n",
       "</style>\n",
       "<table border=\"1\" class=\"dataframe\">\n",
       "  <thead>\n",
       "    <tr style=\"text-align: right;\">\n",
       "      <th></th>\n",
       "      <th>articles</th>\n",
       "      <th>status</th>\n",
       "      <th>totalResults</th>\n",
       "    </tr>\n",
       "  </thead>\n",
       "  <tbody>\n",
       "    <tr>\n",
       "      <th>0</th>\n",
       "      <td>{'source': {'id': 'cbc-news', 'name': 'CBC New...</td>\n",
       "      <td>ok</td>\n",
       "      <td>7</td>\n",
       "    </tr>\n",
       "    <tr>\n",
       "      <th>1</th>\n",
       "      <td>{'source': {'id': 'google-news-in', 'name': 'G...</td>\n",
       "      <td>ok</td>\n",
       "      <td>7</td>\n",
       "    </tr>\n",
       "    <tr>\n",
       "      <th>2</th>\n",
       "      <td>{'source': {'id': 'independent', 'name': 'Inde...</td>\n",
       "      <td>ok</td>\n",
       "      <td>7</td>\n",
       "    </tr>\n",
       "    <tr>\n",
       "      <th>3</th>\n",
       "      <td>{'source': {'id': 'wired', 'name': 'Wired'}, '...</td>\n",
       "      <td>ok</td>\n",
       "      <td>7</td>\n",
       "    </tr>\n",
       "    <tr>\n",
       "      <th>4</th>\n",
       "      <td>{'source': {'id': 'fortune', 'name': 'Fortune'...</td>\n",
       "      <td>ok</td>\n",
       "      <td>7</td>\n",
       "    </tr>\n",
       "  </tbody>\n",
       "</table>\n",
       "</div>"
      ],
      "text/plain": [
       "                                            articles status  totalResults\n",
       "0  {'source': {'id': 'cbc-news', 'name': 'CBC New...     ok             7\n",
       "1  {'source': {'id': 'google-news-in', 'name': 'G...     ok             7\n",
       "2  {'source': {'id': 'independent', 'name': 'Inde...     ok             7\n",
       "3  {'source': {'id': 'wired', 'name': 'Wired'}, '...     ok             7\n",
       "4  {'source': {'id': 'fortune', 'name': 'Fortune'...     ok             7"
      ]
     },
     "execution_count": 19,
     "metadata": {},
     "output_type": "execute_result"
    }
   ],
   "source": [
    "dumb_data.head()"
   ]
  },
  {
   "cell_type": "code",
   "execution_count": 83,
   "metadata": {},
   "outputs": [],
   "source": [
    "num_of_articles = dumb_data['totalResults'][0]"
   ]
  },
  {
   "cell_type": "code",
   "execution_count": 84,
   "metadata": {},
   "outputs": [
    {
     "data": {
      "text/plain": [
       "7"
      ]
     },
     "execution_count": 84,
     "metadata": {},
     "output_type": "execute_result"
    }
   ],
   "source": [
    "num_of_articles"
   ]
  },
  {
   "cell_type": "code",
   "execution_count": 80,
   "metadata": {},
   "outputs": [
    {
     "data": {
      "text/plain": [
       "'cbc-news'"
      ]
     },
     "execution_count": 80,
     "metadata": {},
     "output_type": "execute_result"
    }
   ],
   "source": [
    "dumb_data['articles'][0]['source']['id']"
   ]
  },
  {
   "cell_type": "code",
   "execution_count": 114,
   "metadata": {},
   "outputs": [],
   "source": [
    "stuff = [dumb_data['articles'][index]['url'] for index in np.arange(num_of_articles)]"
   ]
  },
  {
   "cell_type": "code",
   "execution_count": 115,
   "metadata": {},
   "outputs": [
    {
     "data": {
      "text/plain": [
       "['http://www.cbc.ca/news/entertainment/national-gord-downie-secret-path-chanie-wenjack-1.4846918',\n",
       " 'https://timesofindia.indiatimes.com/city/coimbatore/coimbatore-hospital-removes-worlds-heaviest-ovarian-cancer-tumour/articleshow/66181579.cms',\n",
       " 'http://www.independent.co.uk/arts-entertainment/music/features/elvis-costello-interview-look-now-album-cancer-tour-dates-metoo-ed-sheeran-a8579441.html',\n",
       " 'https://www.wired.com/story/microsoft-calls-truce-in-linux-patent-wars/',\n",
       " 'http://fortune.com/2018/10/11/biotech-allogene-ipo/',\n",
       " 'http://www.medicalnewstoday.com/articles/323312.php',\n",
       " 'http://www.medicalnewstoday.com/articles/323289.php']"
      ]
     },
     "execution_count": 115,
     "metadata": {},
     "output_type": "execute_result"
    }
   ],
   "source": [
    "stuff"
   ]
  },
  {
   "cell_type": "code",
   "execution_count": 89,
   "metadata": {},
   "outputs": [
    {
     "data": {
      "text/plain": [
       "array([0, 1, 2, 3, 4, 5, 6])"
      ]
     },
     "execution_count": 89,
     "metadata": {},
     "output_type": "execute_result"
    }
   ],
   "source": [
    "np.arange(7)"
   ]
  },
  {
   "cell_type": "code",
   "execution_count": null,
   "metadata": {},
   "outputs": [],
   "source": []
  },
  {
   "cell_type": "code",
   "execution_count": 68,
   "metadata": {},
   "outputs": [],
   "source": [
    "source_id = ''\n",
    "source_name = ''\n",
    "author = ''\n",
    "title = ''\n",
    "description = ''\n",
    "url = ''\n",
    "urlToImage = ''\n",
    "publishedAt = ''\n",
    "content = ''"
   ]
  },
  {
   "cell_type": "code",
   "execution_count": 69,
   "metadata": {},
   "outputs": [],
   "source": [
    "fields_of_interest = [source_id,\n",
    "                      source_name,\n",
    "                      author, \n",
    "                      title,\n",
    "                      description,\n",
    "                      url,\n",
    "                      urlToImage,\n",
    "                      publishedAt,\n",
    "                      content]"
   ]
  },
  {
   "cell_type": "code",
   "execution_count": 70,
   "metadata": {},
   "outputs": [],
   "source": [
    "field_names = ['news_source_id',\n",
    "               'news_source_name',\n",
    "               'news_author',\n",
    "               'news_title',\n",
    "               'news_description',\n",
    "               'news_url', \n",
    "               'news_image_url', \n",
    "               'news_publication_date', \n",
    "               'news_content']"
   ]
  },
  {
   "cell_type": "code",
   "execution_count": null,
   "metadata": {},
   "outputs": [],
   "source": [
    "\"\"\"Based on the API documentation for the top-headlines, for the\n",
    "returned response, the fields that we need from each json object\n",
    "are:\n",
    " the identification id of the news source\n",
    "- source id \n",
    "\n",
    " the name of the news source\n",
    "- source name\n",
    "\n",
    " the author of the new article\n",
    "- author\n",
    "\n",
    " the headline or title of the article\n",
    "- title\n",
    "\n",
    " description from the article\n",
    "- description\n",
    "\n",
    " url to the article\n",
    "- url\n",
    "\n",
    " a url to a relevant image for the article\n",
    "- urlToImage\n",
    "\n",
    " the date and time the article was published\n",
    "- publishedAt\n",
    "\n",
    " the unformatted content of the article\n",
    "- content\n",
    "\"\"\""
   ]
  },
  {
   "cell_type": "code",
   "execution_count": null,
   "metadata": {},
   "outputs": [],
   "source": []
  },
  {
   "cell_type": "code",
   "execution_count": null,
   "metadata": {},
   "outputs": [],
   "source": []
  },
  {
   "cell_type": "code",
   "execution_count": 38,
   "metadata": {},
   "outputs": [],
   "source": [
    "nums = ['results']"
   ]
  },
  {
   "cell_type": "code",
   "execution_count": 59,
   "metadata": {},
   "outputs": [],
   "source": [
    "dunk = dumb_data['status'].apply(pd.Series)"
   ]
  },
  {
   "cell_type": "code",
   "execution_count": 60,
   "metadata": {},
   "outputs": [],
   "source": [
    "dunky = dumb_data['totalResults'].apply(pd.Series)"
   ]
  },
  {
   "cell_type": "code",
   "execution_count": 66,
   "metadata": {},
   "outputs": [],
   "source": [
    "dunk['totalResults'] = dumb_data['totalResults'].values"
   ]
  },
  {
   "cell_type": "code",
   "execution_count": 67,
   "metadata": {},
   "outputs": [
    {
     "data": {
      "text/html": [
       "<div>\n",
       "<style scoped>\n",
       "    .dataframe tbody tr th:only-of-type {\n",
       "        vertical-align: middle;\n",
       "    }\n",
       "\n",
       "    .dataframe tbody tr th {\n",
       "        vertical-align: top;\n",
       "    }\n",
       "\n",
       "    .dataframe thead th {\n",
       "        text-align: right;\n",
       "    }\n",
       "</style>\n",
       "<table border=\"1\" class=\"dataframe\">\n",
       "  <thead>\n",
       "    <tr style=\"text-align: right;\">\n",
       "      <th></th>\n",
       "      <th>0</th>\n",
       "      <th>totalResults</th>\n",
       "    </tr>\n",
       "  </thead>\n",
       "  <tbody>\n",
       "    <tr>\n",
       "      <th>0</th>\n",
       "      <td>ok</td>\n",
       "      <td>7</td>\n",
       "    </tr>\n",
       "    <tr>\n",
       "      <th>1</th>\n",
       "      <td>ok</td>\n",
       "      <td>7</td>\n",
       "    </tr>\n",
       "    <tr>\n",
       "      <th>2</th>\n",
       "      <td>ok</td>\n",
       "      <td>7</td>\n",
       "    </tr>\n",
       "    <tr>\n",
       "      <th>3</th>\n",
       "      <td>ok</td>\n",
       "      <td>7</td>\n",
       "    </tr>\n",
       "    <tr>\n",
       "      <th>4</th>\n",
       "      <td>ok</td>\n",
       "      <td>7</td>\n",
       "    </tr>\n",
       "  </tbody>\n",
       "</table>\n",
       "</div>"
      ],
      "text/plain": [
       "    0  totalResults\n",
       "0  ok             7\n",
       "1  ok             7\n",
       "2  ok             7\n",
       "3  ok             7\n",
       "4  ok             7"
      ]
     },
     "execution_count": 67,
     "metadata": {},
     "output_type": "execute_result"
    }
   ],
   "source": [
    "dunk.head()"
   ]
  },
  {
   "cell_type": "code",
   "execution_count": 124,
   "metadata": {},
   "outputs": [],
   "source": [
    "result = {}"
   ]
  },
  {
   "cell_type": "code",
   "execution_count": 129,
   "metadata": {},
   "outputs": [
    {
     "data": {
      "text/plain": [
       "False"
      ]
     },
     "execution_count": 129,
     "metadata": {},
     "output_type": "execute_result"
    }
   ],
   "source": [
    "bool(result)"
   ]
  },
  {
   "cell_type": "code",
   "execution_count": 128,
   "metadata": {},
   "outputs": [
    {
     "name": "stdout",
     "output_type": "stream",
     "text": [
      "Dict is Empty\n",
      "Dict is Empty\n",
      "Dict is Empty\n"
     ]
    }
   ],
   "source": [
    "test_dict = {}\n",
    "\n",
    "if not test_dict:\n",
    "    print(\"Dict is Empty\")\n",
    "\n",
    "\n",
    "if not bool(test_dict):\n",
    "    print(\"Dict is Empty\")\n",
    "\n",
    "\n",
    "if len(test_dict) == 0:\n",
    "    print(\"Dict is Empty\")"
   ]
  },
  {
   "cell_type": "code",
   "execution_count": null,
   "metadata": {},
   "outputs": [],
   "source": []
  },
  {
   "cell_type": "code",
   "execution_count": 131,
   "metadata": {},
   "outputs": [],
   "source": [
    "extracted_data = {'source_id': 1,\n",
    "                          'source_name': 2,\n",
    "                          'author': 3,\n",
    "                          'title': 4,\n",
    "                          'description': 5,\n",
    "                          'url': 6,\n",
    "                          'url_to_image': 7,\n",
    "                          'published_at': 8,\n",
    "                          'content': 9}"
   ]
  },
  {
   "cell_type": "code",
   "execution_count": 135,
   "metadata": {},
   "outputs": [
    {
     "name": "stdout",
     "output_type": "stream",
     "text": [
      "(0, 'source_id')\n",
      "(1, 'source_name')\n",
      "(2, 'author')\n",
      "(3, 'title')\n",
      "(4, 'description')\n",
      "(5, 'url')\n",
      "(6, 'url_to_image')\n",
      "(7, 'published_at')\n",
      "(8, 'content')\n"
     ]
    }
   ],
   "source": [
    "for i in enumerate(list(extracted_data.keys())):\n",
    "    print(i)"
   ]
  },
  {
   "cell_type": "code",
   "execution_count": null,
   "metadata": {},
   "outputs": [],
   "source": []
  },
  {
   "cell_type": "code",
   "execution_count": 167,
   "metadata": {},
   "outputs": [],
   "source": [
    "def transform_data_to_dataframe(news_data):\n",
    "        \"\"\"converts a dictionary of news data into a Pandas Dataframe.\n",
    "\n",
    "        # Arguments:\n",
    "            :param data: extracted news data information.\n",
    "            :type data: dict\n",
    "        \"\"\"\n",
    "\n",
    "        # error-check\n",
    "        if not news_data:\n",
    "            raise ValueError(\"news data argument cannot be empty\")\n",
    "\n",
    "        field_names = ['news_source_id',\n",
    "                       'news_source_name',\n",
    "                       'news_author',\n",
    "                       'news_title',\n",
    "                       'news_description',\n",
    "                       'news_url',\n",
    "                       'news_image_url',\n",
    "                       'news_publication_date',\n",
    "                       'news_content']\n",
    "\n",
    "        # craft the transformed dataframe\n",
    "        news_df = pd.DataFrame()\n",
    "\n",
    "        # populate the columns of the dataframe with news data\n",
    "        for index, field in enumerate(list(news_data.keys())):\n",
    "            print(news_data[field])\n",
    "            news_df[field_names[index]] = news_data[field]\n",
    "\n",
    "        return news_df"
   ]
  },
  {
   "cell_type": "code",
   "execution_count": null,
   "metadata": {},
   "outputs": [],
   "source": []
  },
  {
   "cell_type": "code",
   "execution_count": 158,
   "metadata": {},
   "outputs": [],
   "source": [
    "def extract_news_data_from_dataframe(frame):\n",
    "        \"\"\"returns extracted information from a news dataframe.\n",
    "\n",
    "        Based on the API documentation for the top-headlines, for the\n",
    "        returned response, the fields that we need from each json object\n",
    "        are:\n",
    "\n",
    "        the identification id of the news source\n",
    "        - source id\n",
    "\n",
    "        the name of the news source\n",
    "        - source name\n",
    "\n",
    "        the author of the new article\n",
    "        - author\n",
    "\n",
    "        the headline or title of the article\n",
    "        - title\n",
    "\n",
    "        description from the article\n",
    "        - description\n",
    "\n",
    "        url to the article\n",
    "        - url\n",
    "\n",
    "        a url to a relevant image for the article\n",
    "        - urlToImage\n",
    "\n",
    "        the date and time the article was published\n",
    "        - publishedAt\n",
    "\n",
    "        the unformatted content of the article\n",
    "        - content\n",
    "\n",
    "        Returns a dictionary containing all these extracted information.\n",
    "\n",
    "        # Arguments:\n",
    "            :param frame: a Pandas DataFrame containing news data\n",
    "            :type frame: DataFrame\n",
    "        \"\"\"\n",
    "\n",
    "        num_of_articles = frame['totalResults'][0]\n",
    "        # dictionary representing the extracted news data\n",
    "        extracted_data = {}\n",
    "\n",
    "        # error check - no articles means this json had no news data\n",
    "        if num_of_articles < 1:\n",
    "            return extracted_data\n",
    "\n",
    "        # Using Pandas, extract required information from the given dataframe\n",
    "        # each is a return list of data.\n",
    "        source_id = [frame['articles'][index]['source']['id']\n",
    "                     for index in np.arange(num_of_articles)]\n",
    "\n",
    "        source_name = [frame['articles'][index]['source']['name']\n",
    "                       for index in np.arange(num_of_articles)]\n",
    "\n",
    "        author = [frame['articles'][index]['author']\n",
    "                  for index in np.arange(num_of_articles)]\n",
    "\n",
    "        title = [frame['articles'][index]['title']\n",
    "                 for index in np.arange(num_of_articles)]\n",
    "\n",
    "        description = [frame['articles'][index]['description']\n",
    "                       for index in np.arange(num_of_articles)]\n",
    "\n",
    "        url = [frame['articles'][index]['url']\n",
    "               for index in np.arange(num_of_articles)]\n",
    "\n",
    "        url_to_image = [frame['articles'][index]['urlToImage']\n",
    "                        for index in np.arange(num_of_articles)]\n",
    "\n",
    "        published_at = [frame['articles'][index]['publishedAt']\n",
    "                        for index in np.arange(num_of_articles)]\n",
    "\n",
    "        content = [frame['articles'][index]['content']\n",
    "                   for index in np.arange(num_of_articles)]\n",
    "\n",
    "        # compose a dictionary with the extracted information\n",
    "        extracted_data = {'source_id': source_id,\n",
    "                          'source_name': source_name,\n",
    "                          'author': author,\n",
    "                          'title': title,\n",
    "                          'description': description,\n",
    "                          'url': url,\n",
    "                          'url_to_image': url_to_image,\n",
    "                          'published_at': published_at,\n",
    "                          'content': content}\n",
    "\n",
    "        return extracted_data"
   ]
  },
  {
   "cell_type": "code",
   "execution_count": null,
   "metadata": {},
   "outputs": [],
   "source": []
  },
  {
   "cell_type": "code",
   "execution_count": 137,
   "metadata": {},
   "outputs": [],
   "source": [
    "extracted_data = {'source_id': [\"wired\"],\n",
    "                          'source_name': [\"Wired\"],\n",
    "                          'author': [\"Klint Finley\"],\n",
    "                          'title': [\"Microsoft Calls a Truce in the Linux\\\n",
    "                          Patent Wars\"],\n",
    "                          'description': [\"The software giant, whose\\\n",
    "                          former CEO once called\\\n",
    "                          Linux a \\\\\\\"cancer,\\\\\\\" will let others use 60,000\\\n",
    "                          patents for Linux-related open source projects.\"],\n",
    "                          'url': [\"https://www.wired.com/story/microsoft-ca\\\n",
    "                          lls-truce-in-linux-patent-wars/\"],\n",
    "                          'url_to_image': [\"https://media.wired.com/photos/5bb\\\n",
    "                          e9c0f2b915f2dff96d6f4/191:100/pass/Satya-Microsoft-M\\\n",
    "                          ichelleG.jpg\"],\n",
    "                          'published_at': [\"2018-10-11T23:33:03Z\"],\n",
    "                          'content': [\"Microsoft is calling for a truce in the\\\n",
    "                           patent war. This week the company said it will\\\n",
    "                            allow more than 2,600 other companies, including\\\n",
    "                             traditional rivals like Google and IBM, to use\\\n",
    "                              the technology behind 60,000 Microsoft patents\\\n",
    "                               for their own Linux related o… [+4435 chars]\"]}"
   ]
  },
  {
   "cell_type": "code",
   "execution_count": null,
   "metadata": {},
   "outputs": [],
   "source": []
  },
  {
   "cell_type": "code",
   "execution_count": 161,
   "metadata": {},
   "outputs": [],
   "source": [
    "data = pd.DataFrame()\n",
    "total_results = [1]\n",
    "status = ['ok']\n",
    "\n",
    "source1 = {\"source\": {\"id\": \"wired\", \"name\": \"Wired\"},\n",
    "                   \"author\": \"Klint Finley\", \"title\": \"Microsoft\\\n",
    "                   Calls a Truce in the Linux\\\n",
    "                    Patent Wars\", \"description\": \"The software giant, whose\\\n",
    "                     former CEO once called\\\n",
    "                    Linux a \\\\\\\"cancer,\\\\\\\" will let others use 60,000\\\n",
    "                     patents for Linux-related open source pro\\\n",
    "                     jects.\", \"url\": \"https://www.wired.com/story/mic\\\n",
    "                     rosoft-calls-truce-in-linux-patent-wars/\", \"urlToImage\": \"https://med\\\n",
    "                     ia.wired.com/photos/5bbe9c0f2b915f2dff96d6f4/191:100/pas\\\n",
    "                     s/Satya-Microsoft-MichelleG.jpg\", \"publishedAt\": \"20\\\n",
    "                     18-10-11T23:33:03Z\", \"content\": \"Microsoft is calling\\\n",
    "                      for a truce in the patent war. This week the company\\\n",
    "                       said it will allow more than 2,600 other companies,\\\n",
    "                        including traditional rivals like Google and IBM,\\\n",
    "                         to use the technology behind 60,000 Microsoft\\\n",
    "                          patents for their own Linux related o… [+4435 chars]\"}\n",
    "\n",
    "articles = [source1]\n",
    "\n",
    "data['status'] = status\n",
    "data['totalResults'] = total_results\n",
    "data['articles'] = articles"
   ]
  },
  {
   "cell_type": "code",
   "execution_count": null,
   "metadata": {},
   "outputs": [],
   "source": []
  },
  {
   "cell_type": "code",
   "execution_count": 168,
   "metadata": {},
   "outputs": [
    {
     "name": "stdout",
     "output_type": "stream",
     "text": [
      "['wired']\n",
      "['Wired']\n",
      "['Klint Finley']\n",
      "['Microsoft Calls a Truce in the Linux                          Patent Wars']\n",
      "['The software giant, whose                          former CEO once called                          Linux a \\\\\"cancer,\\\\\" will let others use 60,000                          patents for Linux-related open source projects.']\n",
      "['https://www.wired.com/story/microsoft-ca                          lls-truce-in-linux-patent-wars/']\n",
      "['https://media.wired.com/photos/5bb                          e9c0f2b915f2dff96d6f4/191:100/pass/Satya-Microsoft-M                          ichelleG.jpg']\n",
      "['2018-10-11T23:33:03Z']\n",
      "['Microsoft is calling for a truce in the                           patent war. This week the company said it will                            allow more than 2,600 other companies, including                             traditional rivals like Google and IBM, to use                              the technology behind 60,000 Microsoft patents                               for their own Linux related o… [+4435 chars]']\n"
     ]
    }
   ],
   "source": [
    "tip = transform_data_to_dataframe(extracted_data)"
   ]
  },
  {
   "cell_type": "code",
   "execution_count": 169,
   "metadata": {},
   "outputs": [
    {
     "data": {
      "text/html": [
       "<div>\n",
       "<style scoped>\n",
       "    .dataframe tbody tr th:only-of-type {\n",
       "        vertical-align: middle;\n",
       "    }\n",
       "\n",
       "    .dataframe tbody tr th {\n",
       "        vertical-align: top;\n",
       "    }\n",
       "\n",
       "    .dataframe thead th {\n",
       "        text-align: right;\n",
       "    }\n",
       "</style>\n",
       "<table border=\"1\" class=\"dataframe\">\n",
       "  <thead>\n",
       "    <tr style=\"text-align: right;\">\n",
       "      <th></th>\n",
       "      <th>news_source_id</th>\n",
       "      <th>news_source_name</th>\n",
       "      <th>news_author</th>\n",
       "      <th>news_title</th>\n",
       "      <th>news_description</th>\n",
       "      <th>news_url</th>\n",
       "      <th>news_image_url</th>\n",
       "      <th>news_publication_date</th>\n",
       "      <th>news_content</th>\n",
       "    </tr>\n",
       "  </thead>\n",
       "  <tbody>\n",
       "    <tr>\n",
       "      <th>0</th>\n",
       "      <td>wired</td>\n",
       "      <td>Wired</td>\n",
       "      <td>Klint Finley</td>\n",
       "      <td>Microsoft Calls a Truce in the Linux          ...</td>\n",
       "      <td>The software giant, whose                     ...</td>\n",
       "      <td>https://www.wired.com/story/microsoft-ca      ...</td>\n",
       "      <td>https://media.wired.com/photos/5bb            ...</td>\n",
       "      <td>2018-10-11T23:33:03Z</td>\n",
       "      <td>Microsoft is calling for a truce in the       ...</td>\n",
       "    </tr>\n",
       "  </tbody>\n",
       "</table>\n",
       "</div>"
      ],
      "text/plain": [
       "  news_source_id news_source_name   news_author  \\\n",
       "0          wired            Wired  Klint Finley   \n",
       "\n",
       "                                          news_title  \\\n",
       "0  Microsoft Calls a Truce in the Linux          ...   \n",
       "\n",
       "                                    news_description  \\\n",
       "0  The software giant, whose                     ...   \n",
       "\n",
       "                                            news_url  \\\n",
       "0  https://www.wired.com/story/microsoft-ca      ...   \n",
       "\n",
       "                                      news_image_url news_publication_date  \\\n",
       "0  https://media.wired.com/photos/5bb            ...  2018-10-11T23:33:03Z   \n",
       "\n",
       "                                        news_content  \n",
       "0  Microsoft is calling for a truce in the       ...  "
      ]
     },
     "execution_count": 169,
     "metadata": {},
     "output_type": "execute_result"
    }
   ],
   "source": [
    "tip.head()"
   ]
  },
  {
   "cell_type": "code",
   "execution_count": 155,
   "metadata": {},
   "outputs": [
    {
     "data": {
      "text/plain": [
       "'K'"
      ]
     },
     "execution_count": 155,
     "metadata": {},
     "output_type": "execute_result"
    }
   ],
   "source": [
    "str(tip['news_author'])[5]"
   ]
  },
  {
   "cell_type": "code",
   "execution_count": null,
   "metadata": {},
   "outputs": [],
   "source": []
  },
  {
   "cell_type": "code",
   "execution_count": 178,
   "metadata": {},
   "outputs": [
    {
     "data": {
      "text/plain": [
       "0    wired\n",
       "Name: news_source_id, dtype: object"
      ]
     },
     "execution_count": 178,
     "metadata": {},
     "output_type": "execute_result"
    }
   ],
   "source": [
    "tip['news_source_id']"
   ]
  },
  {
   "cell_type": "code",
   "execution_count": null,
   "metadata": {},
   "outputs": [],
   "source": []
  },
  {
   "cell_type": "code",
   "execution_count": 163,
   "metadata": {},
   "outputs": [],
   "source": [
    "topy = extract_news_data_from_dataframe(data)"
   ]
  },
  {
   "cell_type": "code",
   "execution_count": 166,
   "metadata": {},
   "outputs": [
    {
     "data": {
      "text/plain": [
       "['wired']"
      ]
     },
     "execution_count": 166,
     "metadata": {},
     "output_type": "execute_result"
    }
   ],
   "source": [
    "topy['source_id']"
   ]
  },
  {
   "cell_type": "code",
   "execution_count": null,
   "metadata": {},
   "outputs": [],
   "source": []
  },
  {
   "cell_type": "code",
   "execution_count": 180,
   "metadata": {},
   "outputs": [],
   "source": [
    "tip.to_csv(path_or_buf=\"smarter.csv\")"
   ]
  },
  {
   "cell_type": "code",
   "execution_count": 181,
   "metadata": {},
   "outputs": [],
   "source": [
    "ths = \"234342_cancer_headlines.csv\""
   ]
  },
  {
   "cell_type": "code",
   "execution_count": 182,
   "metadata": {},
   "outputs": [
    {
     "data": {
      "text/plain": [
       "['234342', 'cancer', 'headlines.csv']"
      ]
     },
     "execution_count": 182,
     "metadata": {},
     "output_type": "execute_result"
    }
   ],
   "source": [
    "ths.split(\"_\")"
   ]
  },
  {
   "cell_type": "code",
   "execution_count": null,
   "metadata": {},
   "outputs": [],
   "source": []
  },
  {
   "cell_type": "code",
   "execution_count": null,
   "metadata": {},
   "outputs": [],
   "source": []
  },
  {
   "cell_type": "code",
   "execution_count": null,
   "metadata": {},
   "outputs": [],
   "source": []
  },
  {
   "cell_type": "code",
   "execution_count": null,
   "metadata": {},
   "outputs": [],
   "source": [
    "\n"
   ]
  },
  {
   "cell_type": "code",
   "execution_count": null,
   "metadata": {},
   "outputs": [],
   "source": []
  },
  {
   "cell_type": "markdown",
   "metadata": {},
   "source": [
    "### Practice merging to DataFrames row-wise"
   ]
  },
  {
   "cell_type": "code",
   "execution_count": 183,
   "metadata": {},
   "outputs": [],
   "source": [
    "df1 = pd.DataFrame({'A': ['A0', 'A1', 'A2', 'A3'],\n",
    "                    'B': ['B0', 'B1', 'B2', 'B3'],\n",
    "                    'C': ['C0', 'C1', 'C2', 'C3'],\n",
    "                    'D': ['D0', 'D1', 'D2', 'D3']},\n",
    "                                index=[0, 1, 2, 3])"
   ]
  },
  {
   "cell_type": "code",
   "execution_count": 184,
   "metadata": {},
   "outputs": [],
   "source": [
    "df2 = pd.DataFrame({'A': ['A4', 'A5', 'A6', 'A7'],\n",
    "                    'B': ['B4', 'B5', 'B6', 'B7'],\n",
    "                    'C': ['C4', 'C5', 'C6', 'C7'],\n",
    "                    'D': ['D4', 'D5', 'D6', 'D7']},\n",
    "                                index=[4, 5, 6, 7])"
   ]
  },
  {
   "cell_type": "code",
   "execution_count": 185,
   "metadata": {},
   "outputs": [],
   "source": [
    "df3 = pd.DataFrame({'A': ['A8', 'A9', 'A10', 'A11'],\n",
    "                    'B': ['B8', 'B9', 'B10', 'B11'],\n",
    "                    'C': ['C8', 'C9', 'C10', 'C11'],\n",
    "                    'D': ['D8', 'D9', 'D10', 'D11']},\n",
    "                                index=[8, 9, 10, 11])"
   ]
  },
  {
   "cell_type": "code",
   "execution_count": 297,
   "metadata": {},
   "outputs": [
    {
     "data": {
      "text/html": [
       "<div>\n",
       "<style scoped>\n",
       "    .dataframe tbody tr th:only-of-type {\n",
       "        vertical-align: middle;\n",
       "    }\n",
       "\n",
       "    .dataframe tbody tr th {\n",
       "        vertical-align: top;\n",
       "    }\n",
       "\n",
       "    .dataframe thead th {\n",
       "        text-align: right;\n",
       "    }\n",
       "</style>\n",
       "<table border=\"1\" class=\"dataframe\">\n",
       "  <thead>\n",
       "    <tr style=\"text-align: right;\">\n",
       "      <th></th>\n",
       "      <th>A</th>\n",
       "      <th>B</th>\n",
       "      <th>C</th>\n",
       "      <th>D</th>\n",
       "    </tr>\n",
       "  </thead>\n",
       "  <tbody>\n",
       "    <tr>\n",
       "      <th>0</th>\n",
       "      <td>A0</td>\n",
       "      <td>B0</td>\n",
       "      <td>C0</td>\n",
       "      <td>D0</td>\n",
       "    </tr>\n",
       "    <tr>\n",
       "      <th>1</th>\n",
       "      <td>A1</td>\n",
       "      <td>B1</td>\n",
       "      <td>C1</td>\n",
       "      <td>D1</td>\n",
       "    </tr>\n",
       "    <tr>\n",
       "      <th>2</th>\n",
       "      <td>A2</td>\n",
       "      <td>B2</td>\n",
       "      <td>C2</td>\n",
       "      <td>D2</td>\n",
       "    </tr>\n",
       "    <tr>\n",
       "      <th>3</th>\n",
       "      <td>A3</td>\n",
       "      <td>B3</td>\n",
       "      <td>C3</td>\n",
       "      <td>D3</td>\n",
       "    </tr>\n",
       "  </tbody>\n",
       "</table>\n",
       "</div>"
      ],
      "text/plain": [
       "    A   B   C   D\n",
       "0  A0  B0  C0  D0\n",
       "1  A1  B1  C1  D1\n",
       "2  A2  B2  C2  D2\n",
       "3  A3  B3  C3  D3"
      ]
     },
     "execution_count": 297,
     "metadata": {},
     "output_type": "execute_result"
    }
   ],
   "source": [
    "df1"
   ]
  },
  {
   "cell_type": "code",
   "execution_count": 301,
   "metadata": {},
   "outputs": [
    {
     "data": {
      "text/html": [
       "<div>\n",
       "<style scoped>\n",
       "    .dataframe tbody tr th:only-of-type {\n",
       "        vertical-align: middle;\n",
       "    }\n",
       "\n",
       "    .dataframe tbody tr th {\n",
       "        vertical-align: top;\n",
       "    }\n",
       "\n",
       "    .dataframe thead th {\n",
       "        text-align: right;\n",
       "    }\n",
       "</style>\n",
       "<table border=\"1\" class=\"dataframe\">\n",
       "  <thead>\n",
       "    <tr style=\"text-align: right;\">\n",
       "      <th></th>\n",
       "      <th>A</th>\n",
       "      <th>B</th>\n",
       "      <th>C</th>\n",
       "      <th>D</th>\n",
       "    </tr>\n",
       "  </thead>\n",
       "  <tbody>\n",
       "    <tr>\n",
       "      <th>0</th>\n",
       "      <td>A0</td>\n",
       "      <td>B0</td>\n",
       "      <td>C0</td>\n",
       "      <td>D0</td>\n",
       "    </tr>\n",
       "    <tr>\n",
       "      <th>1</th>\n",
       "      <td>A1</td>\n",
       "      <td>B1</td>\n",
       "      <td>C1</td>\n",
       "      <td>D1</td>\n",
       "    </tr>\n",
       "    <tr>\n",
       "      <th>2</th>\n",
       "      <td>A2</td>\n",
       "      <td>B2</td>\n",
       "      <td>C2</td>\n",
       "      <td>D2</td>\n",
       "    </tr>\n",
       "    <tr>\n",
       "      <th>3</th>\n",
       "      <td>A3</td>\n",
       "      <td>B3</td>\n",
       "      <td>C3</td>\n",
       "      <td>D3</td>\n",
       "    </tr>\n",
       "    <tr>\n",
       "      <th>0</th>\n",
       "      <td>A0</td>\n",
       "      <td>B0</td>\n",
       "      <td>C0</td>\n",
       "      <td>D0</td>\n",
       "    </tr>\n",
       "    <tr>\n",
       "      <th>1</th>\n",
       "      <td>A1</td>\n",
       "      <td>B1</td>\n",
       "      <td>C1</td>\n",
       "      <td>D1</td>\n",
       "    </tr>\n",
       "    <tr>\n",
       "      <th>2</th>\n",
       "      <td>A2</td>\n",
       "      <td>B2</td>\n",
       "      <td>C2</td>\n",
       "      <td>D2</td>\n",
       "    </tr>\n",
       "    <tr>\n",
       "      <th>3</th>\n",
       "      <td>A3</td>\n",
       "      <td>B3</td>\n",
       "      <td>C3</td>\n",
       "      <td>D3</td>\n",
       "    </tr>\n",
       "  </tbody>\n",
       "</table>\n",
       "</div>"
      ],
      "text/plain": [
       "    A   B   C   D\n",
       "0  A0  B0  C0  D0\n",
       "1  A1  B1  C1  D1\n",
       "2  A2  B2  C2  D2\n",
       "3  A3  B3  C3  D3\n",
       "0  A0  B0  C0  D0\n",
       "1  A1  B1  C1  D1\n",
       "2  A2  B2  C2  D2\n",
       "3  A3  B3  C3  D3"
      ]
     },
     "execution_count": 301,
     "metadata": {},
     "output_type": "execute_result"
    }
   ],
   "source": [
    "super_df = pd.concat([df1, df1])\n",
    "super_df"
   ]
  },
  {
   "cell_type": "code",
   "execution_count": null,
   "metadata": {},
   "outputs": [],
   "source": []
  },
  {
   "cell_type": "code",
   "execution_count": 302,
   "metadata": {},
   "outputs": [],
   "source": [
    "# super_df = pd.DataFrame({'A': ['A0', 'A1', 'A2', 'A3'],\n",
    "#                          'B': ['B0', 'B1', 'B2', 'B3'],\n",
    "#                                            'C': ['C0', 'C1', 'C2', 'C3'],\n",
    "#                                            'D': ['D0', 'D1', 'D2', 'D3'],\n",
    "#                                            'A': ['A0', 'A1', 'A2', 'A3'],\n",
    "#                                            'B': ['B0', 'B1', 'B2', 'B3'],\n",
    "#                                            'C': ['C0', 'C1', 'C2', 'C3'],\n",
    "#                                            'D': ['D0', 'D1', 'D2', 'D3']},\n",
    "#                                           index=[0, 1, 2, 3, 0, 1, 2, 3])"
   ]
  },
  {
   "cell_type": "code",
   "execution_count": null,
   "metadata": {},
   "outputs": [],
   "source": []
  },
  {
   "cell_type": "code",
   "execution_count": 296,
   "metadata": {},
   "outputs": [
    {
     "data": {
      "text/html": [
       "<div>\n",
       "<style scoped>\n",
       "    .dataframe tbody tr th:only-of-type {\n",
       "        vertical-align: middle;\n",
       "    }\n",
       "\n",
       "    .dataframe tbody tr th {\n",
       "        vertical-align: top;\n",
       "    }\n",
       "\n",
       "    .dataframe thead th {\n",
       "        text-align: right;\n",
       "    }\n",
       "</style>\n",
       "<table border=\"1\" class=\"dataframe\">\n",
       "  <thead>\n",
       "    <tr style=\"text-align: right;\">\n",
       "      <th></th>\n",
       "      <th>A</th>\n",
       "      <th>B</th>\n",
       "      <th>C</th>\n",
       "      <th>D</th>\n",
       "    </tr>\n",
       "  </thead>\n",
       "  <tbody>\n",
       "    <tr>\n",
       "      <th>0</th>\n",
       "      <td>A0</td>\n",
       "      <td>B0</td>\n",
       "      <td>C0</td>\n",
       "      <td>D0</td>\n",
       "    </tr>\n",
       "    <tr>\n",
       "      <th>1</th>\n",
       "      <td>A1</td>\n",
       "      <td>B1</td>\n",
       "      <td>C1</td>\n",
       "      <td>D1</td>\n",
       "    </tr>\n",
       "    <tr>\n",
       "      <th>2</th>\n",
       "      <td>A2</td>\n",
       "      <td>B2</td>\n",
       "      <td>C2</td>\n",
       "      <td>D2</td>\n",
       "    </tr>\n",
       "    <tr>\n",
       "      <th>3</th>\n",
       "      <td>A3</td>\n",
       "      <td>B3</td>\n",
       "      <td>C3</td>\n",
       "      <td>D3</td>\n",
       "    </tr>\n",
       "  </tbody>\n",
       "</table>\n",
       "</div>"
      ],
      "text/plain": [
       "    A   B   C   D\n",
       "0  A0  B0  C0  D0\n",
       "1  A1  B1  C1  D1\n",
       "2  A2  B2  C2  D2\n",
       "3  A3  B3  C3  D3"
      ]
     },
     "execution_count": 296,
     "metadata": {},
     "output_type": "execute_result"
    }
   ],
   "source": [
    "df1"
   ]
  },
  {
   "cell_type": "code",
   "execution_count": 187,
   "metadata": {},
   "outputs": [
    {
     "data": {
      "text/html": [
       "<div>\n",
       "<style scoped>\n",
       "    .dataframe tbody tr th:only-of-type {\n",
       "        vertical-align: middle;\n",
       "    }\n",
       "\n",
       "    .dataframe tbody tr th {\n",
       "        vertical-align: top;\n",
       "    }\n",
       "\n",
       "    .dataframe thead th {\n",
       "        text-align: right;\n",
       "    }\n",
       "</style>\n",
       "<table border=\"1\" class=\"dataframe\">\n",
       "  <thead>\n",
       "    <tr style=\"text-align: right;\">\n",
       "      <th></th>\n",
       "      <th>A</th>\n",
       "      <th>B</th>\n",
       "      <th>C</th>\n",
       "      <th>D</th>\n",
       "    </tr>\n",
       "  </thead>\n",
       "  <tbody>\n",
       "    <tr>\n",
       "      <th>4</th>\n",
       "      <td>A4</td>\n",
       "      <td>B4</td>\n",
       "      <td>C4</td>\n",
       "      <td>D4</td>\n",
       "    </tr>\n",
       "    <tr>\n",
       "      <th>5</th>\n",
       "      <td>A5</td>\n",
       "      <td>B5</td>\n",
       "      <td>C5</td>\n",
       "      <td>D5</td>\n",
       "    </tr>\n",
       "    <tr>\n",
       "      <th>6</th>\n",
       "      <td>A6</td>\n",
       "      <td>B6</td>\n",
       "      <td>C6</td>\n",
       "      <td>D6</td>\n",
       "    </tr>\n",
       "    <tr>\n",
       "      <th>7</th>\n",
       "      <td>A7</td>\n",
       "      <td>B7</td>\n",
       "      <td>C7</td>\n",
       "      <td>D7</td>\n",
       "    </tr>\n",
       "  </tbody>\n",
       "</table>\n",
       "</div>"
      ],
      "text/plain": [
       "    A   B   C   D\n",
       "4  A4  B4  C4  D4\n",
       "5  A5  B5  C5  D5\n",
       "6  A6  B6  C6  D6\n",
       "7  A7  B7  C7  D7"
      ]
     },
     "execution_count": 187,
     "metadata": {},
     "output_type": "execute_result"
    }
   ],
   "source": [
    "df2"
   ]
  },
  {
   "cell_type": "code",
   "execution_count": 188,
   "metadata": {},
   "outputs": [
    {
     "data": {
      "text/html": [
       "<div>\n",
       "<style scoped>\n",
       "    .dataframe tbody tr th:only-of-type {\n",
       "        vertical-align: middle;\n",
       "    }\n",
       "\n",
       "    .dataframe tbody tr th {\n",
       "        vertical-align: top;\n",
       "    }\n",
       "\n",
       "    .dataframe thead th {\n",
       "        text-align: right;\n",
       "    }\n",
       "</style>\n",
       "<table border=\"1\" class=\"dataframe\">\n",
       "  <thead>\n",
       "    <tr style=\"text-align: right;\">\n",
       "      <th></th>\n",
       "      <th>A</th>\n",
       "      <th>B</th>\n",
       "      <th>C</th>\n",
       "      <th>D</th>\n",
       "    </tr>\n",
       "  </thead>\n",
       "  <tbody>\n",
       "    <tr>\n",
       "      <th>8</th>\n",
       "      <td>A8</td>\n",
       "      <td>B8</td>\n",
       "      <td>C8</td>\n",
       "      <td>D8</td>\n",
       "    </tr>\n",
       "    <tr>\n",
       "      <th>9</th>\n",
       "      <td>A9</td>\n",
       "      <td>B9</td>\n",
       "      <td>C9</td>\n",
       "      <td>D9</td>\n",
       "    </tr>\n",
       "    <tr>\n",
       "      <th>10</th>\n",
       "      <td>A10</td>\n",
       "      <td>B10</td>\n",
       "      <td>C10</td>\n",
       "      <td>D10</td>\n",
       "    </tr>\n",
       "    <tr>\n",
       "      <th>11</th>\n",
       "      <td>A11</td>\n",
       "      <td>B11</td>\n",
       "      <td>C11</td>\n",
       "      <td>D11</td>\n",
       "    </tr>\n",
       "  </tbody>\n",
       "</table>\n",
       "</div>"
      ],
      "text/plain": [
       "      A    B    C    D\n",
       "8    A8   B8   C8   D8\n",
       "9    A9   B9   C9   D9\n",
       "10  A10  B10  C10  D10\n",
       "11  A11  B11  C11  D11"
      ]
     },
     "execution_count": 188,
     "metadata": {},
     "output_type": "execute_result"
    }
   ],
   "source": [
    "df3"
   ]
  },
  {
   "cell_type": "code",
   "execution_count": 205,
   "metadata": {},
   "outputs": [],
   "source": [
    "dummy_df = pd.DataFrame()"
   ]
  },
  {
   "cell_type": "code",
   "execution_count": 206,
   "metadata": {},
   "outputs": [
    {
     "data": {
      "text/html": [
       "<div>\n",
       "<style scoped>\n",
       "    .dataframe tbody tr th:only-of-type {\n",
       "        vertical-align: middle;\n",
       "    }\n",
       "\n",
       "    .dataframe tbody tr th {\n",
       "        vertical-align: top;\n",
       "    }\n",
       "\n",
       "    .dataframe thead th {\n",
       "        text-align: right;\n",
       "    }\n",
       "</style>\n",
       "<table border=\"1\" class=\"dataframe\">\n",
       "  <thead>\n",
       "    <tr style=\"text-align: right;\">\n",
       "      <th></th>\n",
       "    </tr>\n",
       "  </thead>\n",
       "  <tbody>\n",
       "  </tbody>\n",
       "</table>\n",
       "</div>"
      ],
      "text/plain": [
       "Empty DataFrame\n",
       "Columns: []\n",
       "Index: []"
      ]
     },
     "execution_count": 206,
     "metadata": {},
     "output_type": "execute_result"
    }
   ],
   "source": [
    "dummy_df"
   ]
  },
  {
   "cell_type": "code",
   "execution_count": 207,
   "metadata": {},
   "outputs": [],
   "source": [
    "frames = [dummy_df, df1, df2]"
   ]
  },
  {
   "cell_type": "code",
   "execution_count": 190,
   "metadata": {},
   "outputs": [],
   "source": [
    "result= pd.concat(frames)"
   ]
  },
  {
   "cell_type": "code",
   "execution_count": 191,
   "metadata": {},
   "outputs": [
    {
     "data": {
      "text/html": [
       "<div>\n",
       "<style scoped>\n",
       "    .dataframe tbody tr th:only-of-type {\n",
       "        vertical-align: middle;\n",
       "    }\n",
       "\n",
       "    .dataframe tbody tr th {\n",
       "        vertical-align: top;\n",
       "    }\n",
       "\n",
       "    .dataframe thead th {\n",
       "        text-align: right;\n",
       "    }\n",
       "</style>\n",
       "<table border=\"1\" class=\"dataframe\">\n",
       "  <thead>\n",
       "    <tr style=\"text-align: right;\">\n",
       "      <th></th>\n",
       "      <th>A</th>\n",
       "      <th>B</th>\n",
       "      <th>C</th>\n",
       "      <th>D</th>\n",
       "    </tr>\n",
       "  </thead>\n",
       "  <tbody>\n",
       "    <tr>\n",
       "      <th>0</th>\n",
       "      <td>A0</td>\n",
       "      <td>B0</td>\n",
       "      <td>C0</td>\n",
       "      <td>D0</td>\n",
       "    </tr>\n",
       "    <tr>\n",
       "      <th>1</th>\n",
       "      <td>A1</td>\n",
       "      <td>B1</td>\n",
       "      <td>C1</td>\n",
       "      <td>D1</td>\n",
       "    </tr>\n",
       "    <tr>\n",
       "      <th>2</th>\n",
       "      <td>A2</td>\n",
       "      <td>B2</td>\n",
       "      <td>C2</td>\n",
       "      <td>D2</td>\n",
       "    </tr>\n",
       "    <tr>\n",
       "      <th>3</th>\n",
       "      <td>A3</td>\n",
       "      <td>B3</td>\n",
       "      <td>C3</td>\n",
       "      <td>D3</td>\n",
       "    </tr>\n",
       "    <tr>\n",
       "      <th>4</th>\n",
       "      <td>A4</td>\n",
       "      <td>B4</td>\n",
       "      <td>C4</td>\n",
       "      <td>D4</td>\n",
       "    </tr>\n",
       "    <tr>\n",
       "      <th>5</th>\n",
       "      <td>A5</td>\n",
       "      <td>B5</td>\n",
       "      <td>C5</td>\n",
       "      <td>D5</td>\n",
       "    </tr>\n",
       "    <tr>\n",
       "      <th>6</th>\n",
       "      <td>A6</td>\n",
       "      <td>B6</td>\n",
       "      <td>C6</td>\n",
       "      <td>D6</td>\n",
       "    </tr>\n",
       "    <tr>\n",
       "      <th>7</th>\n",
       "      <td>A7</td>\n",
       "      <td>B7</td>\n",
       "      <td>C7</td>\n",
       "      <td>D7</td>\n",
       "    </tr>\n",
       "  </tbody>\n",
       "</table>\n",
       "</div>"
      ],
      "text/plain": [
       "    A   B   C   D\n",
       "0  A0  B0  C0  D0\n",
       "1  A1  B1  C1  D1\n",
       "2  A2  B2  C2  D2\n",
       "3  A3  B3  C3  D3\n",
       "4  A4  B4  C4  D4\n",
       "5  A5  B5  C5  D5\n",
       "6  A6  B6  C6  D6\n",
       "7  A7  B7  C7  D7"
      ]
     },
     "execution_count": 191,
     "metadata": {},
     "output_type": "execute_result"
    }
   ],
   "source": [
    "result"
   ]
  },
  {
   "cell_type": "code",
   "execution_count": 304,
   "metadata": {},
   "outputs": [
    {
     "ename": "ValueError",
     "evalue": "Shape of passed values is (8, 4), indices imply (8, 8)",
     "output_type": "error",
     "traceback": [
      "\u001b[0;31m---------------------------------------------------------------------------\u001b[0m",
      "\u001b[0;31mValueError\u001b[0m                                Traceback (most recent call last)",
      "\u001b[0;32m~/anaconda3/lib/python3.6/site-packages/pandas/core/internals.py\u001b[0m in \u001b[0;36mcreate_block_manager_from_arrays\u001b[0;34m(arrays, names, axes)\u001b[0m\n\u001b[1;32m   4637\u001b[0m         \u001b[0mblocks\u001b[0m \u001b[0;34m=\u001b[0m \u001b[0mform_blocks\u001b[0m\u001b[0;34m(\u001b[0m\u001b[0marrays\u001b[0m\u001b[0;34m,\u001b[0m \u001b[0mnames\u001b[0m\u001b[0;34m,\u001b[0m \u001b[0maxes\u001b[0m\u001b[0;34m)\u001b[0m\u001b[0;34m\u001b[0m\u001b[0m\n\u001b[0;32m-> 4638\u001b[0;31m         \u001b[0mmgr\u001b[0m \u001b[0;34m=\u001b[0m \u001b[0mBlockManager\u001b[0m\u001b[0;34m(\u001b[0m\u001b[0mblocks\u001b[0m\u001b[0;34m,\u001b[0m \u001b[0maxes\u001b[0m\u001b[0;34m)\u001b[0m\u001b[0;34m\u001b[0m\u001b[0m\n\u001b[0m\u001b[1;32m   4639\u001b[0m         \u001b[0mmgr\u001b[0m\u001b[0;34m.\u001b[0m\u001b[0m_consolidate_inplace\u001b[0m\u001b[0;34m(\u001b[0m\u001b[0;34m)\u001b[0m\u001b[0;34m\u001b[0m\u001b[0m\n",
      "\u001b[0;32m~/anaconda3/lib/python3.6/site-packages/pandas/core/internals.py\u001b[0m in \u001b[0;36m__init__\u001b[0;34m(self, blocks, axes, do_integrity_check, fastpath)\u001b[0m\n\u001b[1;32m   3032\u001b[0m         \u001b[0;32mif\u001b[0m \u001b[0mdo_integrity_check\u001b[0m\u001b[0;34m:\u001b[0m\u001b[0;34m\u001b[0m\u001b[0m\n\u001b[0;32m-> 3033\u001b[0;31m             \u001b[0mself\u001b[0m\u001b[0;34m.\u001b[0m\u001b[0m_verify_integrity\u001b[0m\u001b[0;34m(\u001b[0m\u001b[0;34m)\u001b[0m\u001b[0;34m\u001b[0m\u001b[0m\n\u001b[0m\u001b[1;32m   3034\u001b[0m \u001b[0;34m\u001b[0m\u001b[0m\n",
      "\u001b[0;32m~/anaconda3/lib/python3.6/site-packages/pandas/core/internals.py\u001b[0m in \u001b[0;36m_verify_integrity\u001b[0;34m(self)\u001b[0m\n\u001b[1;32m   3243\u001b[0m             \u001b[0;32mif\u001b[0m \u001b[0mblock\u001b[0m\u001b[0;34m.\u001b[0m\u001b[0m_verify_integrity\u001b[0m \u001b[0;32mand\u001b[0m \u001b[0mblock\u001b[0m\u001b[0;34m.\u001b[0m\u001b[0mshape\u001b[0m\u001b[0;34m[\u001b[0m\u001b[0;36m1\u001b[0m\u001b[0;34m:\u001b[0m\u001b[0;34m]\u001b[0m \u001b[0;34m!=\u001b[0m \u001b[0mmgr_shape\u001b[0m\u001b[0;34m[\u001b[0m\u001b[0;36m1\u001b[0m\u001b[0;34m:\u001b[0m\u001b[0;34m]\u001b[0m\u001b[0;34m:\u001b[0m\u001b[0;34m\u001b[0m\u001b[0m\n\u001b[0;32m-> 3244\u001b[0;31m                 \u001b[0mconstruction_error\u001b[0m\u001b[0;34m(\u001b[0m\u001b[0mtot_items\u001b[0m\u001b[0;34m,\u001b[0m \u001b[0mblock\u001b[0m\u001b[0;34m.\u001b[0m\u001b[0mshape\u001b[0m\u001b[0;34m[\u001b[0m\u001b[0;36m1\u001b[0m\u001b[0;34m:\u001b[0m\u001b[0;34m]\u001b[0m\u001b[0;34m,\u001b[0m \u001b[0mself\u001b[0m\u001b[0;34m.\u001b[0m\u001b[0maxes\u001b[0m\u001b[0;34m)\u001b[0m\u001b[0;34m\u001b[0m\u001b[0m\n\u001b[0m\u001b[1;32m   3245\u001b[0m         \u001b[0;32mif\u001b[0m \u001b[0mlen\u001b[0m\u001b[0;34m(\u001b[0m\u001b[0mself\u001b[0m\u001b[0;34m.\u001b[0m\u001b[0mitems\u001b[0m\u001b[0;34m)\u001b[0m \u001b[0;34m!=\u001b[0m \u001b[0mtot_items\u001b[0m\u001b[0;34m:\u001b[0m\u001b[0;34m\u001b[0m\u001b[0m\n",
      "\u001b[0;32m~/anaconda3/lib/python3.6/site-packages/pandas/core/internals.py\u001b[0m in \u001b[0;36mconstruction_error\u001b[0;34m(tot_items, block_shape, axes, e)\u001b[0m\n\u001b[1;32m   4607\u001b[0m     raise ValueError(\"Shape of passed values is {0}, indices imply {1}\".format(\n\u001b[0;32m-> 4608\u001b[0;31m         passed, implied))\n\u001b[0m\u001b[1;32m   4609\u001b[0m \u001b[0;34m\u001b[0m\u001b[0m\n",
      "\u001b[0;31mValueError\u001b[0m: Shape of passed values is (8, 4), indices imply (8, 8)",
      "\nDuring handling of the above exception, another exception occurred:\n",
      "\u001b[0;31mValueError\u001b[0m                                Traceback (most recent call last)",
      "\u001b[0;32m<ipython-input-304-93c38a7f650d>\u001b[0m in \u001b[0;36m<module>\u001b[0;34m()\u001b[0m\n\u001b[1;32m      7\u001b[0m                                            \u001b[0;34m'G'\u001b[0m\u001b[0;34m:\u001b[0m \u001b[0;34m[\u001b[0m\u001b[0;34m'C4'\u001b[0m\u001b[0;34m,\u001b[0m \u001b[0;34m'C5'\u001b[0m\u001b[0;34m,\u001b[0m \u001b[0;34m'C6'\u001b[0m\u001b[0;34m,\u001b[0m \u001b[0;34m'C7'\u001b[0m\u001b[0;34m]\u001b[0m\u001b[0;34m,\u001b[0m\u001b[0;34m\u001b[0m\u001b[0m\n\u001b[1;32m      8\u001b[0m                                            'H': ['D4', 'D5', 'D6', 'D7']},\n\u001b[0;32m----> 9\u001b[0;31m                                           index=[0, 1, 2, 3, 4, 5, 6, 7])\n\u001b[0m",
      "\u001b[0;32m~/anaconda3/lib/python3.6/site-packages/pandas/core/frame.py\u001b[0m in \u001b[0;36m__init__\u001b[0;34m(self, data, index, columns, dtype, copy)\u001b[0m\n\u001b[1;32m    328\u001b[0m                                  dtype=dtype, copy=copy)\n\u001b[1;32m    329\u001b[0m         \u001b[0;32melif\u001b[0m \u001b[0misinstance\u001b[0m\u001b[0;34m(\u001b[0m\u001b[0mdata\u001b[0m\u001b[0;34m,\u001b[0m \u001b[0mdict\u001b[0m\u001b[0;34m)\u001b[0m\u001b[0;34m:\u001b[0m\u001b[0;34m\u001b[0m\u001b[0m\n\u001b[0;32m--> 330\u001b[0;31m             \u001b[0mmgr\u001b[0m \u001b[0;34m=\u001b[0m \u001b[0mself\u001b[0m\u001b[0;34m.\u001b[0m\u001b[0m_init_dict\u001b[0m\u001b[0;34m(\u001b[0m\u001b[0mdata\u001b[0m\u001b[0;34m,\u001b[0m \u001b[0mindex\u001b[0m\u001b[0;34m,\u001b[0m \u001b[0mcolumns\u001b[0m\u001b[0;34m,\u001b[0m \u001b[0mdtype\u001b[0m\u001b[0;34m=\u001b[0m\u001b[0mdtype\u001b[0m\u001b[0;34m)\u001b[0m\u001b[0;34m\u001b[0m\u001b[0m\n\u001b[0m\u001b[1;32m    331\u001b[0m         \u001b[0;32melif\u001b[0m \u001b[0misinstance\u001b[0m\u001b[0;34m(\u001b[0m\u001b[0mdata\u001b[0m\u001b[0;34m,\u001b[0m \u001b[0mma\u001b[0m\u001b[0;34m.\u001b[0m\u001b[0mMaskedArray\u001b[0m\u001b[0;34m)\u001b[0m\u001b[0;34m:\u001b[0m\u001b[0;34m\u001b[0m\u001b[0m\n\u001b[1;32m    332\u001b[0m             \u001b[0;32mimport\u001b[0m \u001b[0mnumpy\u001b[0m\u001b[0;34m.\u001b[0m\u001b[0mma\u001b[0m\u001b[0;34m.\u001b[0m\u001b[0mmrecords\u001b[0m \u001b[0;32mas\u001b[0m \u001b[0mmrecords\u001b[0m\u001b[0;34m\u001b[0m\u001b[0m\n",
      "\u001b[0;32m~/anaconda3/lib/python3.6/site-packages/pandas/core/frame.py\u001b[0m in \u001b[0;36m_init_dict\u001b[0;34m(self, data, index, columns, dtype)\u001b[0m\n\u001b[1;32m    459\u001b[0m             \u001b[0marrays\u001b[0m \u001b[0;34m=\u001b[0m \u001b[0;34m[\u001b[0m\u001b[0mdata\u001b[0m\u001b[0;34m[\u001b[0m\u001b[0mk\u001b[0m\u001b[0;34m]\u001b[0m \u001b[0;32mfor\u001b[0m \u001b[0mk\u001b[0m \u001b[0;32min\u001b[0m \u001b[0mkeys\u001b[0m\u001b[0;34m]\u001b[0m\u001b[0;34m\u001b[0m\u001b[0m\n\u001b[1;32m    460\u001b[0m \u001b[0;34m\u001b[0m\u001b[0m\n\u001b[0;32m--> 461\u001b[0;31m         \u001b[0;32mreturn\u001b[0m \u001b[0m_arrays_to_mgr\u001b[0m\u001b[0;34m(\u001b[0m\u001b[0marrays\u001b[0m\u001b[0;34m,\u001b[0m \u001b[0mdata_names\u001b[0m\u001b[0;34m,\u001b[0m \u001b[0mindex\u001b[0m\u001b[0;34m,\u001b[0m \u001b[0mcolumns\u001b[0m\u001b[0;34m,\u001b[0m \u001b[0mdtype\u001b[0m\u001b[0;34m=\u001b[0m\u001b[0mdtype\u001b[0m\u001b[0;34m)\u001b[0m\u001b[0;34m\u001b[0m\u001b[0m\n\u001b[0m\u001b[1;32m    462\u001b[0m \u001b[0;34m\u001b[0m\u001b[0m\n\u001b[1;32m    463\u001b[0m     \u001b[0;32mdef\u001b[0m \u001b[0m_init_ndarray\u001b[0m\u001b[0;34m(\u001b[0m\u001b[0mself\u001b[0m\u001b[0;34m,\u001b[0m \u001b[0mvalues\u001b[0m\u001b[0;34m,\u001b[0m \u001b[0mindex\u001b[0m\u001b[0;34m,\u001b[0m \u001b[0mcolumns\u001b[0m\u001b[0;34m,\u001b[0m \u001b[0mdtype\u001b[0m\u001b[0;34m=\u001b[0m\u001b[0;32mNone\u001b[0m\u001b[0;34m,\u001b[0m \u001b[0mcopy\u001b[0m\u001b[0;34m=\u001b[0m\u001b[0;32mFalse\u001b[0m\u001b[0;34m)\u001b[0m\u001b[0;34m:\u001b[0m\u001b[0;34m\u001b[0m\u001b[0m\n",
      "\u001b[0;32m~/anaconda3/lib/python3.6/site-packages/pandas/core/frame.py\u001b[0m in \u001b[0;36m_arrays_to_mgr\u001b[0;34m(arrays, arr_names, index, columns, dtype)\u001b[0m\n\u001b[1;32m   6171\u001b[0m     \u001b[0maxes\u001b[0m \u001b[0;34m=\u001b[0m \u001b[0;34m[\u001b[0m\u001b[0m_ensure_index\u001b[0m\u001b[0;34m(\u001b[0m\u001b[0mcolumns\u001b[0m\u001b[0;34m)\u001b[0m\u001b[0;34m,\u001b[0m \u001b[0m_ensure_index\u001b[0m\u001b[0;34m(\u001b[0m\u001b[0mindex\u001b[0m\u001b[0;34m)\u001b[0m\u001b[0;34m]\u001b[0m\u001b[0;34m\u001b[0m\u001b[0m\n\u001b[1;32m   6172\u001b[0m \u001b[0;34m\u001b[0m\u001b[0m\n\u001b[0;32m-> 6173\u001b[0;31m     \u001b[0;32mreturn\u001b[0m \u001b[0mcreate_block_manager_from_arrays\u001b[0m\u001b[0;34m(\u001b[0m\u001b[0marrays\u001b[0m\u001b[0;34m,\u001b[0m \u001b[0marr_names\u001b[0m\u001b[0;34m,\u001b[0m \u001b[0maxes\u001b[0m\u001b[0;34m)\u001b[0m\u001b[0;34m\u001b[0m\u001b[0m\n\u001b[0m\u001b[1;32m   6174\u001b[0m \u001b[0;34m\u001b[0m\u001b[0m\n\u001b[1;32m   6175\u001b[0m \u001b[0;34m\u001b[0m\u001b[0m\n",
      "\u001b[0;32m~/anaconda3/lib/python3.6/site-packages/pandas/core/internals.py\u001b[0m in \u001b[0;36mcreate_block_manager_from_arrays\u001b[0;34m(arrays, names, axes)\u001b[0m\n\u001b[1;32m   4640\u001b[0m         \u001b[0;32mreturn\u001b[0m \u001b[0mmgr\u001b[0m\u001b[0;34m\u001b[0m\u001b[0m\n\u001b[1;32m   4641\u001b[0m     \u001b[0;32mexcept\u001b[0m \u001b[0mValueError\u001b[0m \u001b[0;32mas\u001b[0m \u001b[0me\u001b[0m\u001b[0;34m:\u001b[0m\u001b[0;34m\u001b[0m\u001b[0m\n\u001b[0;32m-> 4642\u001b[0;31m         \u001b[0mconstruction_error\u001b[0m\u001b[0;34m(\u001b[0m\u001b[0mlen\u001b[0m\u001b[0;34m(\u001b[0m\u001b[0marrays\u001b[0m\u001b[0;34m)\u001b[0m\u001b[0;34m,\u001b[0m \u001b[0marrays\u001b[0m\u001b[0;34m[\u001b[0m\u001b[0;36m0\u001b[0m\u001b[0;34m]\u001b[0m\u001b[0;34m.\u001b[0m\u001b[0mshape\u001b[0m\u001b[0;34m,\u001b[0m \u001b[0maxes\u001b[0m\u001b[0;34m,\u001b[0m \u001b[0me\u001b[0m\u001b[0;34m)\u001b[0m\u001b[0;34m\u001b[0m\u001b[0m\n\u001b[0m\u001b[1;32m   4643\u001b[0m \u001b[0;34m\u001b[0m\u001b[0m\n\u001b[1;32m   4644\u001b[0m \u001b[0;34m\u001b[0m\u001b[0m\n",
      "\u001b[0;32m~/anaconda3/lib/python3.6/site-packages/pandas/core/internals.py\u001b[0m in \u001b[0;36mconstruction_error\u001b[0;34m(tot_items, block_shape, axes, e)\u001b[0m\n\u001b[1;32m   4606\u001b[0m         \u001b[0;32mraise\u001b[0m \u001b[0mValueError\u001b[0m\u001b[0;34m(\u001b[0m\u001b[0;34m\"Empty data passed with indices specified.\"\u001b[0m\u001b[0;34m)\u001b[0m\u001b[0;34m\u001b[0m\u001b[0m\n\u001b[1;32m   4607\u001b[0m     raise ValueError(\"Shape of passed values is {0}, indices imply {1}\".format(\n\u001b[0;32m-> 4608\u001b[0;31m         passed, implied))\n\u001b[0m\u001b[1;32m   4609\u001b[0m \u001b[0;34m\u001b[0m\u001b[0m\n\u001b[1;32m   4610\u001b[0m \u001b[0;34m\u001b[0m\u001b[0m\n",
      "\u001b[0;31mValueError\u001b[0m: Shape of passed values is (8, 4), indices imply (8, 8)"
     ]
    }
   ],
   "source": [
    "toy = pd.DataFrame({'A': ['A0', 'A1', 'A2', 'A3'],\n",
    "                                           'B': ['B0', 'B1', 'B2', 'B3'],\n",
    "                                           'C': ['C0', 'C1', 'C2', 'C3'],\n",
    "                                           'D': ['D0', 'D1', 'D2', 'D3'],\n",
    "                                           'E': ['A4', 'A5', 'A6', 'A7'],\n",
    "                                           'F': ['B4', 'B5', 'B6', 'B7'],\n",
    "                                           'G': ['C4', 'C5', 'C6', 'C7'],\n",
    "                                           'H': ['D4', 'D5', 'D6', 'D7']},\n",
    "                                          index=[0, 1, 2, 3, 4, 5, 6, 7])"
   ]
  },
  {
   "cell_type": "code",
   "execution_count": null,
   "metadata": {},
   "outputs": [],
   "source": []
  },
  {
   "cell_type": "code",
   "execution_count": null,
   "metadata": {},
   "outputs": [],
   "source": []
  },
  {
   "cell_type": "code",
   "execution_count": 208,
   "metadata": {},
   "outputs": [],
   "source": [
    "result= pd.concat(frames)"
   ]
  },
  {
   "cell_type": "code",
   "execution_count": 209,
   "metadata": {},
   "outputs": [
    {
     "data": {
      "text/html": [
       "<div>\n",
       "<style scoped>\n",
       "    .dataframe tbody tr th:only-of-type {\n",
       "        vertical-align: middle;\n",
       "    }\n",
       "\n",
       "    .dataframe tbody tr th {\n",
       "        vertical-align: top;\n",
       "    }\n",
       "\n",
       "    .dataframe thead th {\n",
       "        text-align: right;\n",
       "    }\n",
       "</style>\n",
       "<table border=\"1\" class=\"dataframe\">\n",
       "  <thead>\n",
       "    <tr style=\"text-align: right;\">\n",
       "      <th></th>\n",
       "      <th>A</th>\n",
       "      <th>B</th>\n",
       "      <th>C</th>\n",
       "      <th>D</th>\n",
       "    </tr>\n",
       "  </thead>\n",
       "  <tbody>\n",
       "    <tr>\n",
       "      <th>0</th>\n",
       "      <td>A0</td>\n",
       "      <td>B0</td>\n",
       "      <td>C0</td>\n",
       "      <td>D0</td>\n",
       "    </tr>\n",
       "    <tr>\n",
       "      <th>1</th>\n",
       "      <td>A1</td>\n",
       "      <td>B1</td>\n",
       "      <td>C1</td>\n",
       "      <td>D1</td>\n",
       "    </tr>\n",
       "    <tr>\n",
       "      <th>2</th>\n",
       "      <td>A2</td>\n",
       "      <td>B2</td>\n",
       "      <td>C2</td>\n",
       "      <td>D2</td>\n",
       "    </tr>\n",
       "    <tr>\n",
       "      <th>3</th>\n",
       "      <td>A3</td>\n",
       "      <td>B3</td>\n",
       "      <td>C3</td>\n",
       "      <td>D3</td>\n",
       "    </tr>\n",
       "    <tr>\n",
       "      <th>4</th>\n",
       "      <td>A4</td>\n",
       "      <td>B4</td>\n",
       "      <td>C4</td>\n",
       "      <td>D4</td>\n",
       "    </tr>\n",
       "    <tr>\n",
       "      <th>5</th>\n",
       "      <td>A5</td>\n",
       "      <td>B5</td>\n",
       "      <td>C5</td>\n",
       "      <td>D5</td>\n",
       "    </tr>\n",
       "    <tr>\n",
       "      <th>6</th>\n",
       "      <td>A6</td>\n",
       "      <td>B6</td>\n",
       "      <td>C6</td>\n",
       "      <td>D6</td>\n",
       "    </tr>\n",
       "    <tr>\n",
       "      <th>7</th>\n",
       "      <td>A7</td>\n",
       "      <td>B7</td>\n",
       "      <td>C7</td>\n",
       "      <td>D7</td>\n",
       "    </tr>\n",
       "  </tbody>\n",
       "</table>\n",
       "</div>"
      ],
      "text/plain": [
       "    A   B   C   D\n",
       "0  A0  B0  C0  D0\n",
       "1  A1  B1  C1  D1\n",
       "2  A2  B2  C2  D2\n",
       "3  A3  B3  C3  D3\n",
       "4  A4  B4  C4  D4\n",
       "5  A5  B5  C5  D5\n",
       "6  A6  B6  C6  D6\n",
       "7  A7  B7  C7  D7"
      ]
     },
     "execution_count": 209,
     "metadata": {},
     "output_type": "execute_result"
    }
   ],
   "source": [
    "result"
   ]
  },
  {
   "cell_type": "code",
   "execution_count": null,
   "metadata": {},
   "outputs": [],
   "source": []
  },
  {
   "cell_type": "code",
   "execution_count": 192,
   "metadata": {},
   "outputs": [],
   "source": [
    "pin = ['A', 'B', 'C', 'D']"
   ]
  },
  {
   "cell_type": "code",
   "execution_count": 204,
   "metadata": {},
   "outputs": [
    {
     "name": "stdout",
     "output_type": "stream",
     "text": [
      "A\n",
      "B\n",
      "B\n",
      "C\n",
      "C\n",
      "D\n"
     ]
    }
   ],
   "source": [
    "for i, val in enumerate(pin):\n",
    "    if i == len(pin) - 1:\n",
    "        break\n",
    "    print(pin[i])\n",
    "    print(pin[i+1])"
   ]
  },
  {
   "cell_type": "code",
   "execution_count": 198,
   "metadata": {},
   "outputs": [
    {
     "data": {
      "text/plain": [
       "'B'"
      ]
     },
     "execution_count": 198,
     "metadata": {},
     "output_type": "execute_result"
    }
   ],
   "source": [
    "pin[1]"
   ]
  },
  {
   "cell_type": "code",
   "execution_count": null,
   "metadata": {},
   "outputs": [],
   "source": []
  },
  {
   "cell_type": "code",
   "execution_count": 210,
   "metadata": {},
   "outputs": [
    {
     "ename": "TypeError",
     "evalue": "'list' object cannot be interpreted as an integer",
     "output_type": "error",
     "traceback": [
      "\u001b[0;31m---------------------------------------------------------------------------\u001b[0m",
      "\u001b[0;31mTypeError\u001b[0m                                 Traceback (most recent call last)",
      "\u001b[0;32m<ipython-input-210-8aa51841cee9>\u001b[0m in \u001b[0;36m<module>\u001b[0;34m()\u001b[0m\n\u001b[0;32m----> 1\u001b[0;31m \u001b[0;32mfor\u001b[0m \u001b[0mi\u001b[0m \u001b[0;32min\u001b[0m \u001b[0mrange\u001b[0m\u001b[0;34m(\u001b[0m\u001b[0mpin\u001b[0m\u001b[0;34m)\u001b[0m\u001b[0;34m:\u001b[0m\u001b[0;34m\u001b[0m\u001b[0m\n\u001b[0m\u001b[1;32m      2\u001b[0m     \u001b[0;32mif\u001b[0m \u001b[0mi\u001b[0m \u001b[0;34m==\u001b[0m \u001b[0mlen\u001b[0m\u001b[0;34m(\u001b[0m\u001b[0mpin\u001b[0m\u001b[0;34m)\u001b[0m \u001b[0;34m-\u001b[0m \u001b[0;36m1\u001b[0m\u001b[0;34m:\u001b[0m\u001b[0;34m\u001b[0m\u001b[0m\n\u001b[1;32m      3\u001b[0m         \u001b[0;32mbreak\u001b[0m\u001b[0;34m\u001b[0m\u001b[0m\n\u001b[1;32m      4\u001b[0m     \u001b[0mprint\u001b[0m\u001b[0;34m(\u001b[0m\u001b[0mpin\u001b[0m\u001b[0;34m[\u001b[0m\u001b[0mi\u001b[0m\u001b[0;34m]\u001b[0m\u001b[0;34m)\u001b[0m\u001b[0;34m\u001b[0m\u001b[0m\n\u001b[1;32m      5\u001b[0m     \u001b[0mprint\u001b[0m\u001b[0;34m(\u001b[0m\u001b[0mpin\u001b[0m\u001b[0;34m[\u001b[0m\u001b[0mi\u001b[0m\u001b[0;34m+\u001b[0m\u001b[0;36m1\u001b[0m\u001b[0;34m]\u001b[0m\u001b[0;34m)\u001b[0m\u001b[0;34m\u001b[0m\u001b[0m\n",
      "\u001b[0;31mTypeError\u001b[0m: 'list' object cannot be interpreted as an integer"
     ]
    }
   ],
   "source": [
    "for i in range(pin):\n",
    "    if i == len(pin) - 1:\n",
    "        break\n",
    "    print(pin[i])\n",
    "    print(pin[i+1])"
   ]
  },
  {
   "cell_type": "code",
   "execution_count": null,
   "metadata": {},
   "outputs": [],
   "source": []
  },
  {
   "cell_type": "code",
   "execution_count": 214,
   "metadata": {},
   "outputs": [],
   "source": [
    "# define global\n",
    "a = 3\n",
    "\n",
    "def pusher():\n",
    "    \n",
    "    global a\n",
    "    for t in range(10):\n",
    "        a = a + t\n",
    "    print(a)"
   ]
  },
  {
   "cell_type": "code",
   "execution_count": 215,
   "metadata": {},
   "outputs": [
    {
     "name": "stdout",
     "output_type": "stream",
     "text": [
      "48\n"
     ]
    }
   ],
   "source": [
    "pusher()"
   ]
  },
  {
   "cell_type": "code",
   "execution_count": 216,
   "metadata": {},
   "outputs": [],
   "source": [
    "th = []"
   ]
  },
  {
   "cell_type": "code",
   "execution_count": 217,
   "metadata": {},
   "outputs": [
    {
     "name": "stdout",
     "output_type": "stream",
     "text": [
      "empty\n"
     ]
    }
   ],
   "source": [
    "if not th:\n",
    "    print('empty')"
   ]
  },
  {
   "cell_type": "code",
   "execution_count": null,
   "metadata": {},
   "outputs": [],
   "source": []
  },
  {
   "cell_type": "markdown",
   "metadata": {},
   "source": [
    "## Using Airflow S3 Hook and Amazon Boto library"
   ]
  },
  {
   "cell_type": "raw",
   "metadata": {},
   "source": [
    "import needed modules"
   ]
  },
  {
   "cell_type": "code",
   "execution_count": 246,
   "metadata": {},
   "outputs": [],
   "source": [
    "import boto3"
   ]
  },
  {
   "cell_type": "raw",
   "metadata": {},
   "source": [
    "instantiate keys"
   ]
  },
  {
   "cell_type": "code",
   "execution_count": 285,
   "metadata": {},
   "outputs": [],
   "source": [
    "s3 = boto3.client('s3')"
   ]
  },
  {
   "cell_type": "code",
   "execution_count": 286,
   "metadata": {},
   "outputs": [
    {
     "ename": "AttributeError",
     "evalue": "'S3' object has no attribute 'buckets'",
     "output_type": "error",
     "traceback": [
      "\u001b[0;31m---------------------------------------------------------------------------\u001b[0m",
      "\u001b[0;31mAttributeError\u001b[0m                            Traceback (most recent call last)",
      "\u001b[0;32m<ipython-input-286-82de40e88333>\u001b[0m in \u001b[0;36m<module>\u001b[0;34m()\u001b[0m\n\u001b[0;32m----> 1\u001b[0;31m \u001b[0ms3\u001b[0m\u001b[0;34m.\u001b[0m\u001b[0mbuckets\u001b[0m\u001b[0;34m\u001b[0m\u001b[0m\n\u001b[0m",
      "\u001b[0;32m~/.local/lib/python3.6/site-packages/botocore/client.py\u001b[0m in \u001b[0;36m__getattr__\u001b[0;34m(self, item)\u001b[0m\n\u001b[1;32m    553\u001b[0m         raise AttributeError(\n\u001b[1;32m    554\u001b[0m             \"'%s' object has no attribute '%s'\" % (\n\u001b[0;32m--> 555\u001b[0;31m                 self.__class__.__name__, item)\n\u001b[0m\u001b[1;32m    556\u001b[0m         )\n\u001b[1;32m    557\u001b[0m \u001b[0;34m\u001b[0m\u001b[0m\n",
      "\u001b[0;31mAttributeError\u001b[0m: 'S3' object has no attribute 'buckets'"
     ]
    }
   ],
   "source": [
    "s3.buckets"
   ]
  },
  {
   "cell_type": "code",
   "execution_count": null,
   "metadata": {},
   "outputs": [],
   "source": []
  },
  {
   "cell_type": "code",
   "execution_count": 255,
   "metadata": {},
   "outputs": [
    {
     "data": {
      "text/plain": [
       "botocore.client.S3"
      ]
     },
     "execution_count": 255,
     "metadata": {},
     "output_type": "execute_result"
    }
   ],
   "source": [
    "type(s3)"
   ]
  },
  {
   "cell_type": "code",
   "execution_count": 287,
   "metadata": {},
   "outputs": [],
   "source": [
    "s4 = boto3.resource('s3')"
   ]
  },
  {
   "cell_type": "code",
   "execution_count": 288,
   "metadata": {},
   "outputs": [
    {
     "data": {
      "text/plain": [
       "s3.bucketsCollectionManager(s3.ServiceResource(), s3.Bucket)"
      ]
     },
     "execution_count": 288,
     "metadata": {},
     "output_type": "execute_result"
    }
   ],
   "source": [
    "s4.buckets"
   ]
  },
  {
   "cell_type": "code",
   "execution_count": null,
   "metadata": {},
   "outputs": [],
   "source": []
  },
  {
   "cell_type": "code",
   "execution_count": 257,
   "metadata": {},
   "outputs": [
    {
     "data": {
      "text/plain": [
       "boto3.resources.factory.s3.ServiceResource"
      ]
     },
     "execution_count": 257,
     "metadata": {},
     "output_type": "execute_result"
    }
   ],
   "source": [
    "type(s4)"
   ]
  },
  {
   "cell_type": "code",
   "execution_count": 274,
   "metadata": {},
   "outputs": [],
   "source": [
    "from boto3.resources.factory import ServiceResource"
   ]
  },
  {
   "cell_type": "code",
   "execution_count": 284,
   "metadata": {},
   "outputs": [
    {
     "data": {
      "text/plain": [
       "botocore.client.S3"
      ]
     },
     "execution_count": 284,
     "metadata": {},
     "output_type": "execute_result"
    }
   ],
   "source": [
    "type(boto3.client('s3'))"
   ]
  },
  {
   "cell_type": "code",
   "execution_count": null,
   "metadata": {},
   "outputs": [],
   "source": []
  },
  {
   "cell_type": "code",
   "execution_count": null,
   "metadata": {},
   "outputs": [],
   "source": [
    "import sys\n",
    "current_module = sys.modules[__name__]"
   ]
  },
  {
   "cell_type": "code",
   "execution_count": 264,
   "metadata": {},
   "outputs": [
    {
     "data": {
      "text/plain": [
       "'\\n    Create a low-level service client by name using the default session.\\n\\n    See :py:meth:`boto3.session.Session.client`.\\n    '"
      ]
     },
     "execution_count": 264,
     "metadata": {},
     "output_type": "execute_result"
    }
   ],
   "source": [
    "boto3.client.__doc__"
   ]
  },
  {
   "cell_type": "code",
   "execution_count": null,
   "metadata": {},
   "outputs": [],
   "source": []
  },
  {
   "cell_type": "code",
   "execution_count": 265,
   "metadata": {},
   "outputs": [
    {
     "data": {
      "text/plain": [
       "'\\n        Create a low-level service client by name.\\n\\n        :type service_name: string\\n        :param service_name: The name of a service, e.g. \\'s3\\' or \\'ec2\\'. You\\n            can get a list of available services via\\n            :py:meth:`get_available_services`.\\n\\n        :type region_name: string\\n        :param region_name: The name of the region associated with the client.\\n            A client is associated with a single region.\\n\\n        :type api_version: string\\n        :param api_version: The API version to use.  By default, botocore will\\n            use the latest API version when creating a client.  You only need\\n            to specify this parameter if you want to use a previous API version\\n            of the client.\\n\\n        :type use_ssl: boolean\\n        :param use_ssl: Whether or not to use SSL.  By default, SSL is used.\\n            Note that not all services support non-ssl connections.\\n\\n        :type verify: boolean/string\\n        :param verify: Whether or not to verify SSL certificates.  By default\\n            SSL certificates are verified.  You can provide the following\\n            values:\\n\\n            * False - do not validate SSL certificates.  SSL will still be\\n              used (unless use_ssl is False), but SSL certificates\\n              will not be verified.\\n            * path/to/cert/bundle.pem - A filename of the CA cert bundle to\\n              uses.  You can specify this argument if you want to use a\\n              different CA cert bundle than the one used by botocore.\\n\\n        :type endpoint_url: string\\n        :param endpoint_url: The complete URL to use for the constructed\\n            client. Normally, botocore will automatically construct the\\n            appropriate URL to use when communicating with a service.  You\\n            can specify a complete URL (including the \"http/https\" scheme)\\n            to override this behavior.  If this value is provided,\\n            then ``use_ssl`` is ignored.\\n\\n        :type aws_access_key_id: string\\n        :param aws_access_key_id: The access key to use when creating\\n            the client.  This is entirely optional, and if not provided,\\n            the credentials configured for the session will automatically\\n            be used.  You only need to provide this argument if you want\\n            to override the credentials used for this specific client.\\n\\n        :type aws_secret_access_key: string\\n        :param aws_secret_access_key: The secret key to use when creating\\n            the client.  Same semantics as aws_access_key_id above.\\n\\n        :type aws_session_token: string\\n        :param aws_session_token: The session token to use when creating\\n            the client.  Same semantics as aws_access_key_id above.\\n\\n        :type config: botocore.client.Config\\n        :param config: Advanced client configuration options. If region_name\\n            is specified in the client config, its value will take precedence\\n            over environment variables and configuration values, but not over\\n            a region_name value passed explicitly to the method. See\\n            `botocore config documentation\\n            <https://botocore.readthedocs.io/en/stable/reference/config.html>`_\\n            for more details.\\n\\n        :return: Service client instance\\n\\n        '"
      ]
     },
     "execution_count": 265,
     "metadata": {},
     "output_type": "execute_result"
    }
   ],
   "source": [
    "boto3.session.Session.client.__doc__"
   ]
  },
  {
   "cell_type": "code",
   "execution_count": null,
   "metadata": {},
   "outputs": [],
   "source": []
  },
  {
   "cell_type": "code",
   "execution_count": 259,
   "metadata": {},
   "outputs": [],
   "source": [
    "import botocore.client"
   ]
  },
  {
   "cell_type": "code",
   "execution_count": 261,
   "metadata": {},
   "outputs": [
    {
     "data": {
      "text/plain": [
       "['AUTH_TYPE_MAPS',\n",
       " 'BaseClient',\n",
       " 'CachedProperty',\n",
       " 'ClientArgsCreator',\n",
       " 'ClientCreator',\n",
       " 'ClientEndpointBridge',\n",
       " 'ClientError',\n",
       " 'ClientMeta',\n",
       " 'ClientMethodDocstring',\n",
       " 'Config',\n",
       " 'DataNotFoundError',\n",
       " 'OperationNotPageableError',\n",
       " 'Paginator',\n",
       " 'PaginatorDocstring',\n",
       " 'S3RegionRedirector',\n",
       " 'S3_ACCELERATE_WHITELIST',\n",
       " 'ServiceModel',\n",
       " 'UNSIGNED',\n",
       " 'UnknownSignatureVersionError',\n",
       " '__builtins__',\n",
       " '__cached__',\n",
       " '__doc__',\n",
       " '__file__',\n",
       " '__loader__',\n",
       " '__name__',\n",
       " '__package__',\n",
       " '__spec__',\n",
       " '_get_configured_signature_version',\n",
       " 'first_non_none_response',\n",
       " 'fix_s3_host',\n",
       " 'functools',\n",
       " 'get_global_history_recorder',\n",
       " 'get_service_module_name',\n",
       " 'history_recorder',\n",
       " 'logger',\n",
       " 'logging',\n",
       " 'prepare_request_dict',\n",
       " 'switch_host_s3_accelerate',\n",
       " 'switch_to_virtual_host_style',\n",
       " 'urlsplit',\n",
       " 'waiter',\n",
       " 'xform_name']"
      ]
     },
     "execution_count": 261,
     "metadata": {},
     "output_type": "execute_result"
    }
   ],
   "source": [
    "dir(botocore.client)"
   ]
  },
  {
   "cell_type": "code",
   "execution_count": 252,
   "metadata": {},
   "outputs": [],
   "source": [
    "response = s3.list_buckets()"
   ]
  },
  {
   "cell_type": "code",
   "execution_count": 253,
   "metadata": {},
   "outputs": [
    {
     "data": {
      "text/plain": [
       "{'Buckets': [{'CreationDate': datetime.datetime(2018, 7, 20, 2, 17, 46, tzinfo=tzutc()),\n",
       "   'Name': 'davidolorundare.com'},\n",
       "  {'CreationDate': datetime.datetime(2018, 10, 15, 19, 34, 14, tzinfo=tzutc()),\n",
       "   'Name': 'tempus-bonus-challenge-csv-headlines'},\n",
       "  {'CreationDate': datetime.datetime(2018, 10, 15, 19, 33, 23, tzinfo=tzutc()),\n",
       "   'Name': 'tempus-challenge-csv-headlines'}],\n",
       " 'Owner': {'DisplayName': 'david.o',\n",
       "  'ID': '1fc9781b274f8e6fc3485bbd74f27a06c4935e4a58b86eeaa00ebccb69177cb0'},\n",
       " 'ResponseMetadata': {'HTTPHeaders': {'content-type': 'application/xml',\n",
       "   'date': 'Tue, 16 Oct 2018 04:48:46 GMT',\n",
       "   'server': 'AmazonS3',\n",
       "   'transfer-encoding': 'chunked',\n",
       "   'x-amz-id-2': 'OKcCIeof38HA5HBM6a3xHkexAn661svQeDQ3vVpaJy3XzrcaW7mD1FFSbxjVV6f4h6ewJshcdkw=',\n",
       "   'x-amz-request-id': '7C40C539F5641848'},\n",
       "  'HTTPStatusCode': 200,\n",
       "  'HostId': 'OKcCIeof38HA5HBM6a3xHkexAn661svQeDQ3vVpaJy3XzrcaW7mD1FFSbxjVV6f4h6ewJshcdkw=',\n",
       "  'RequestId': '7C40C539F5641848',\n",
       "  'RetryAttempts': 0}}"
      ]
     },
     "execution_count": 253,
     "metadata": {},
     "output_type": "execute_result"
    }
   ],
   "source": [
    "response"
   ]
  },
  {
   "cell_type": "code",
   "execution_count": 240,
   "metadata": {},
   "outputs": [],
   "source": [
    "# for bucket in s3.buckets.all():\n",
    "#     print(bucket.name)"
   ]
  },
  {
   "cell_type": "code",
   "execution_count": 293,
   "metadata": {},
   "outputs": [],
   "source": [
    "thingy = s3.upload_file(\"dummy_text_file.txt\", \"tempus-challenge-csv-headlines\", \"dummy.txt\")\n",
    "s3.upload_file(\"dummy_text_file.txt\", \"tempus-bonus-challenge-csv-headlines\", \"dummy.txt\")"
   ]
  },
  {
   "cell_type": "code",
   "execution_count": 249,
   "metadata": {},
   "outputs": [
    {
     "data": {
      "text/plain": [
       "NoneType"
      ]
     },
     "execution_count": 249,
     "metadata": {},
     "output_type": "execute_result"
    }
   ],
   "source": [
    "type(thingy)"
   ]
  },
  {
   "cell_type": "code",
   "execution_count": null,
   "metadata": {},
   "outputs": [],
   "source": [
    "# using airflow\n"
   ]
  },
  {
   "cell_type": "code",
   "execution_count": 289,
   "metadata": {},
   "outputs": [],
   "source": [
    "pencil = \"something\"\n",
    "nothing = \"\""
   ]
  },
  {
   "cell_type": "code",
   "execution_count": 291,
   "metadata": {},
   "outputs": [
    {
     "name": "stdout",
     "output_type": "stream",
     "text": [
      "no\n"
     ]
    }
   ],
   "source": [
    "if not pencil:\n",
    "    print('yes')\n",
    "else:\n",
    "    print('no')"
   ]
  },
  {
   "cell_type": "code",
   "execution_count": 294,
   "metadata": {},
   "outputs": [],
   "source": [
    "sf = \"2018-10-16 12:36:40.415905_sample.csv\""
   ]
  },
  {
   "cell_type": "code",
   "execution_count": 295,
   "metadata": {},
   "outputs": [
    {
     "data": {
      "text/plain": [
       "['2018-10-16 12:36:40.415905', 'sample.csv']"
      ]
     },
     "execution_count": 295,
     "metadata": {},
     "output_type": "execute_result"
    }
   ],
   "source": [
    "sf.split(\"_\")"
   ]
  },
  {
   "cell_type": "code",
   "execution_count": null,
   "metadata": {},
   "outputs": [],
   "source": []
  },
  {
   "cell_type": "code",
   "execution_count": null,
   "metadata": {},
   "outputs": [],
   "source": []
  },
  {
   "cell_type": "code",
   "execution_count": null,
   "metadata": {},
   "outputs": [],
   "source": []
  },
  {
   "cell_type": "code",
   "execution_count": null,
   "metadata": {},
   "outputs": [],
   "source": []
  },
  {
   "cell_type": "code",
   "execution_count": null,
   "metadata": {},
   "outputs": [],
   "source": []
  }
 ],
 "metadata": {
  "kernelspec": {
   "display_name": "Python 3",
   "language": "python",
   "name": "python3"
  },
  "language_info": {
   "codemirror_mode": {
    "name": "ipython",
    "version": 3
   },
   "file_extension": ".py",
   "mimetype": "text/x-python",
   "name": "python",
   "nbconvert_exporter": "python",
   "pygments_lexer": "ipython3",
   "version": "3.6.4"
  }
 },
 "nbformat": 4,
 "nbformat_minor": 2
}
